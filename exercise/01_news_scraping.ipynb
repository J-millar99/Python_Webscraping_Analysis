{
 "cells": [
  {
   "cell_type": "markdown",
   "id": "eb0bfa44",
   "metadata": {},
   "source": [
    "## 1-1. Daum 뉴스제목 가져오기\n",
    "* user-agent 요청헤더를 반드시 설정해야 한다."
   ]
  },
  {
   "cell_type": "code",
   "execution_count": 1,
   "id": "bf80a429",
   "metadata": {},
   "outputs": [
    {
     "name": "stdout",
     "output_type": "stream",
     "text": [
      "https://news.daum.net/economy\n",
      "<class 'requests.models.Response'>\n",
      "200\n",
      "<class 'bs4.element.ResultSet'> 9\n",
      "https://v.daum.net/v/20250413210036883\n",
      "北 당포함 격침에 39명 죽었다…박정희 분노가 키운 'K군함'\n",
      "https://v.daum.net/v/20250413201800424\n",
      "그렇게 큰소리치더니…대통령 자존심 무너진 트럼프, 한발 물러선 까닭은\n",
      "https://v.daum.net/v/20250413184350276\n",
      "잔혹하고 섬뜩한 상상 닮아가는 현실 세계 [디스토피아+]\n",
      "https://v.daum.net/v/20250413181359933\n",
      "美 국채금리 ‘발작’, 주간 상승폭 24년 만에 최대…\"투자자의 미국 이탈\"\n",
      "https://v.daum.net/v/20250413175709560\n",
      "라이벌이 동지로…포스코·현대제철, 美관세 맞서 '쇳물' 합친다\n",
      "https://v.daum.net/v/20250413171443669\n",
      "“지금은 트럼프의 카드가 더 많지만, 中·EU 보복하면 모두 피해\"\n",
      "https://v.daum.net/v/20250413162404662\n",
      "尹, 파면 후 첫 형사재판·정부 10조 추경 발표…이번주(14~18일) 주요일정\n",
      "https://v.daum.net/v/20250413160604320\n",
      "우리은행, 아동실종 예방활동 참여땐 고금리 혜택\n",
      "https://v.daum.net/v/20250413160316251\n",
      "\"기술강국 韓은 최고의 외국인 투자처 K기업, 아세안 노동력 적극 활용해야\"\n"
     ]
    }
   ],
   "source": [
    "import requests\n",
    "from bs4 import BeautifulSoup\n",
    "\n",
    "# 다음 경제 뉴스 URL\n",
    "url = 'https://news.daum.net/economy'\n",
    "\n",
    "print(url)\n",
    "\n",
    "# 요청 헤더\n",
    "req_header = {\n",
    "    'user-agent': 'Mozilla/5.0 (Windows NT 10.0; Win64; x64) AppleWebKit/537.36 (KHTML, like Gecko) Chrome/104.0.0.0 Safari/537.36'\n",
    "}\n",
    "\n",
    "res = requests.get(url, headers=req_header)\n",
    "print(type(res))\n",
    "print(res.status_code)\n",
    "\n",
    "# 정상 응답 여부 확인\n",
    "if res.ok:\n",
    "    res.encoding = 'utf-8' \n",
    "    html = res.text\n",
    "    soup = BeautifulSoup(html, 'html.parser')\n",
    "    \n",
    "    # 기사 제목과 링크 추출\n",
    "    li_tag_list = soup.select('ul.list_newsheadline2 li')\n",
    "\n",
    "    print(type(li_tag_list), len(li_tag_list))\n",
    "\n",
    "    for li_tag in li_tag_list:        \n",
    "        a_tag = li_tag.find('a')\n",
    "        print(a_tag['href'])\n",
    "        \n",
    "        strong_tag = li_tag.select('div.cont_thumb strong.tit_txt')[0]\n",
    "        #li_tag.select_one('div.cont_thumb strong.tit_txt')\n",
    "        title = strong_tag.text.strip()\n",
    "        print(title)\n",
    "\n",
    "\n",
    "else:\n",
    "    print(f'에러코드 = {res.status_code}')\n",
    "\n"
   ]
  },
  {
   "cell_type": "code",
   "execution_count": null,
   "id": "9788d6ac",
   "metadata": {},
   "outputs": [],
   "source": [
    "section_dict = {'기후/환경':'climate','사회':'society','경제':'economy','정치':'politics',\\\n",
    "                '국재':'world','문화':'culture','생활':'life','IT/과학':'tech','인물':'people'}\n",
    "section_dict"
   ]
  },
  {
   "cell_type": "markdown",
   "id": "ccb91def-cde3-4aeb-b0e5-2e7233500333",
   "metadata": {},
   "source": [
    "## 1-2. Daum 뉴스제목 \n",
    "* 함수로 선언하여 처리하기"
   ]
  },
  {
   "cell_type": "code",
   "execution_count": 2,
   "id": "94c12fd6",
   "metadata": {},
   "outputs": [],
   "source": [
    "import requests\n",
    "from bs4 import BeautifulSoup\n",
    "\n",
    "section_dict = {'기후/환경':'climate','사회':'society','경제':'economy','정치':'politics',\\\n",
    "             '국재':'world','문화':'culture','생활':'life','IT/과학':'tech','인물':'people'}\n",
    "\n",
    "def print_news(section_name):    \n",
    "    section = section_dict[section_name]\n",
    "    # 요청 Parameter\n",
    "    req_param = {\n",
    "        'section': section\n",
    "    }\n",
    "    url = 'https://news.daum.net/{section}'.format(**req_param)\n",
    "    \n",
    "    print(f'======> {url} {section_name} 뉴스 <======')\n",
    "    \n",
    "    # 요청 헤더 설정 : 브라우저 정보\n",
    "    req_header = {\n",
    "        'user-agent': 'Mozilla/5.0 (Windows NT 10.0; Win64; x64) AppleWebKit/537.36 (KHTML, like Gecko) Chrome/104.0.0.0 Safari/537.36'\n",
    "    }\n",
    "\n",
    "    res = requests.get(url, headers=req_header)   \n",
    "\n",
    "    if res.ok:\n",
    "        res.encoding = 'utf-8' \n",
    "        html = res.text\n",
    "        soup = BeautifulSoup(html, 'html.parser')\n",
    "        \n",
    "        # 기사 제목과 링크 추출\n",
    "        li_tag_list = soup.select('ul.list_newsheadline2 li')\n",
    "\n",
    "        #print(type(li_tag_list), len(li_tag_list))\n",
    "\n",
    "        for li_tag in li_tag_list:        \n",
    "            a_tag = li_tag.find('a')\n",
    "            print(a_tag['href'])\n",
    "            \n",
    "            strong_tag = li_tag.select_one('div.cont_thumb strong.tit_txt')\n",
    "            title = strong_tag.text.strip()\n",
    "            print(title)\n",
    "\n",
    "\n",
    "    else:\n",
    "        print(f'에러코드 = {res.status_code}')\n"
   ]
  },
  {
   "cell_type": "code",
   "execution_count": null,
   "id": "4fa3ef3c",
   "metadata": {},
   "outputs": [],
   "source": [
    "print_news('경제')\n",
    "print_news('인물')"
   ]
  },
  {
   "cell_type": "markdown",
   "id": "efcda22e",
   "metadata": {},
   "source": [
    "## 2-1. Nate 뉴스기사 제목 스크래핑하기"
   ]
  },
  {
   "cell_type": "code",
   "execution_count": 75,
   "id": "7dafb60c",
   "metadata": {},
   "outputs": [
    {
     "name": "stdout",
     "output_type": "stream",
     "text": [
      "https://news.nate.com/recent?mid=n0103\n",
      "==========> 1\n",
      "https://news.nate.com/view/20250413n18274?mid=n0103\n",
      "강원 철원·산간 이어 양구평지·화천도 대설주의보\n"
     ]
    },
    {
     "data": {
      "text/html": [
       "<img src=\"https://thumbnews.nateimg.co.kr/news90///news.nateimg.co.kr/orgImg/na/2025/04/13/7232375_high.jpg\"/>"
      ],
      "text/plain": [
       "<IPython.core.display.Image object>"
      ]
     },
     "metadata": {},
     "output_type": "display_data"
    },
    {
     "name": "stdout",
     "output_type": "stream",
     "text": [
      "==========> 2\n",
      "https://news.nate.com/view/20250413n18236?mid=n0103\n",
      "마트서 가방에 물건 숨겨 훔쳐…경찰, 절도 혐의 60대 검거\n"
     ]
    },
    {
     "data": {
      "text/html": [
       "<img src=\"https://thumbnews.nateimg.co.kr/news90///news.nateimg.co.kr/orgImg/na/2025/04/13/1369143_article.jpg\"/>"
      ],
      "text/plain": [
       "<IPython.core.display.Image object>"
      ]
     },
     "metadata": {},
     "output_type": "display_data"
    },
    {
     "name": "stdout",
     "output_type": "stream",
     "text": [
      "==========> 3\n",
      "https://news.nate.com/view/20250413n18216?mid=n0103\n",
      "점심배달에 머리 손질까지…이사장 부부의 '갑질'\n"
     ]
    },
    {
     "data": {
      "text/html": [
       "<img src=\"https://thumbnews.nateimg.co.kr/news90///news.nateimg.co.kr/orgImg/yn/2025/04/13/202504132312053592_t.jpg\"/>"
      ],
      "text/plain": [
       "<IPython.core.display.Image object>"
      ]
     },
     "metadata": {},
     "output_type": "display_data"
    },
    {
     "name": "stdout",
     "output_type": "stream",
     "text": [
      "==========> 4\n",
      "https://news.nate.com/view/20250413n18215?mid=n0103\n",
      "\"소상공인 살리자\"…지역 대표 금융기관 상생 협력\n"
     ]
    },
    {
     "data": {
      "text/html": [
       "<img src=\"https://thumbnews.nateimg.co.kr/news90///news.nateimg.co.kr/orgImg/yn/2025/04/13/202504132306591802_t.jpg\"/>"
      ],
      "text/plain": [
       "<IPython.core.display.Image object>"
      ]
     },
     "metadata": {},
     "output_type": "display_data"
    },
    {
     "name": "stdout",
     "output_type": "stream",
     "text": [
      "==========> 5\n",
      "https://news.nate.com/view/20250413n18213?mid=n0103\n",
      "서울시, 지하철 등 굴착공사장 지반 침하 집중 점검\n"
     ]
    },
    {
     "data": {
      "text/html": [
       "<img src=\"https://thumbnews.nateimg.co.kr/news90///news.nateimg.co.kr/orgImg/yn/2025/04/13/202504132311489056_t.jpg\"/>"
      ],
      "text/plain": [
       "<IPython.core.display.Image object>"
      ]
     },
     "metadata": {},
     "output_type": "display_data"
    },
    {
     "name": "stdout",
     "output_type": "stream",
     "text": [
      "==========> 6\n",
      "https://news.nate.com/view/20250413n18212?mid=n0103\n",
      "광명 사고 수색 재개…균열·지반 침하 지속 난관\n"
     ]
    },
    {
     "data": {
      "text/html": [
       "<img src=\"https://thumbnews.nateimg.co.kr/news90///news.nateimg.co.kr/orgImg/yn/2025/04/13/202504132311220409_t.jpg\"/>"
      ],
      "text/plain": [
       "<IPython.core.display.Image object>"
      ]
     },
     "metadata": {},
     "output_type": "display_data"
    },
    {
     "name": "stdout",
     "output_type": "stream",
     "text": [
      "==========> 7\n",
      "https://news.nate.com/view/20250413n18211?mid=n0103\n",
      "'광명 붕괴사고' 근처 초등학교 이틀간 재량 휴업\n"
     ]
    },
    {
     "data": {
      "text/html": [
       "<img src=\"https://thumbnews.nateimg.co.kr/news90///news.nateimg.co.kr/orgImg/yn/2025/04/13/202504132311379750_t.jpg\"/>"
      ],
      "text/plain": [
       "<IPython.core.display.Image object>"
      ]
     },
     "metadata": {},
     "output_type": "display_data"
    },
    {
     "name": "stdout",
     "output_type": "stream",
     "text": [
      "==========> 8\n",
      "https://news.nate.com/view/20250413n18207?mid=n0103\n",
      "뜬금없이 올라온 19금 영상…배우 남윤수 \"속상하고 죄송\" 해명\n"
     ]
    },
    {
     "data": {
      "text/html": [
       "<img src=\"https://thumbnews.nateimg.co.kr/news90///news.nateimg.co.kr/orgImg/ch/2025/04/13/ch_1744554245159_541977_0.jpg\"/>"
      ],
      "text/plain": [
       "<IPython.core.display.Image object>"
      ]
     },
     "metadata": {},
     "output_type": "display_data"
    },
    {
     "name": "stdout",
     "output_type": "stream",
     "text": [
      "==========> 9\n",
      "https://news.nate.com/view/20250413n17695?mid=n0103\n",
      "강원 화천에 대설주의보…철원 등 4곳 대설주의보 유지\n"
     ]
    },
    {
     "data": {
      "text/html": [
       "<img src=\"https://thumbnews.nateimg.co.kr/news90///news.nateimg.co.kr/orgImg/no/2025/04/13/SSC_20250413223853_V.jpg\"/>"
      ],
      "text/plain": [
       "<IPython.core.display.Image object>"
      ]
     },
     "metadata": {},
     "output_type": "display_data"
    },
    {
     "name": "stdout",
     "output_type": "stream",
     "text": [
      "==========> 10\n",
      "https://news.nate.com/view/20250413n18161?mid=n0103\n",
      "가수 이지훈, 한동대에서 전한 간증과 소명…\"하나님의 계획, 은혜로 이어진 29년\"\n"
     ]
    },
    {
     "data": {
      "text/html": [
       "<img src=\"https://thumbnews.nateimg.co.kr/news90///news.nateimg.co.kr/orgImg/at/2025/04/13/20250413002246051_1744553485_1.jpg\"/>"
      ],
      "text/plain": [
       "<IPython.core.display.Image object>"
      ]
     },
     "metadata": {},
     "output_type": "display_data"
    },
    {
     "name": "stdout",
     "output_type": "stream",
     "text": [
      "==========> 11\n",
      "https://news.nate.com/view/20250413n14545?mid=n0103\n",
      "\"尹, 5년 뒤 대선 나온다\" 전광훈 주장\n"
     ]
    },
    {
     "data": {
      "text/html": [
       "<img src=\"https://thumbnews.nateimg.co.kr/news90///news.nateimg.co.kr/orgImg/dn/2025/04/13/news_1744535948_1484999_m_1.jpeg\"/>"
      ],
      "text/plain": [
       "<IPython.core.display.Image object>"
      ]
     },
     "metadata": {},
     "output_type": "display_data"
    },
    {
     "name": "stdout",
     "output_type": "stream",
     "text": [
      "==========> 12\n",
      "https://news.nate.com/view/20250413n18097?mid=n0103\n",
      "4월 중순에 눈꽃과 벚꽃이 동시에…봄기운 맘껏 즐겨\n"
     ]
    },
    {
     "data": {
      "text/html": [
       "<img src=\"https://thumbnews.nateimg.co.kr/news90///news.nateimg.co.kr/orgImg/yn/2025/04/13/202504132303047113_t.jpg\"/>"
      ],
      "text/plain": [
       "<IPython.core.display.Image object>"
      ]
     },
     "metadata": {},
     "output_type": "display_data"
    },
    {
     "name": "stdout",
     "output_type": "stream",
     "text": [
      "==========> 13\n",
      "https://news.nate.com/view/20250413n18071?mid=n0103\n",
      "산수유 꽃잎에 쌓인 '춘설'…이번 주초까지 '쌀쌀'\n"
     ]
    },
    {
     "data": {
      "text/html": [
       "<img src=\"https://thumbnews.nateimg.co.kr/news90///news.nateimg.co.kr/orgImg/yn/2025/04/13/202504132302553884_t.jpg\"/>"
      ],
      "text/plain": [
       "<IPython.core.display.Image object>"
      ]
     },
     "metadata": {},
     "output_type": "display_data"
    },
    {
     "name": "stdout",
     "output_type": "stream",
     "text": [
      "==========> 14\n",
      "https://news.nate.com/view/20250413n18070?mid=n0103\n",
      "강풍에 전북 곳곳 피해…간판·나무 쓰러짐 잇따라\n"
     ]
    },
    {
     "data": {
      "text/html": [
       "<img src=\"https://thumbnews.nateimg.co.kr/news90///news.nateimg.co.kr/orgImg/yn/2025/04/13/202504132302467110_t.jpg\"/>"
      ],
      "text/plain": [
       "<IPython.core.display.Image object>"
      ]
     },
     "metadata": {},
     "output_type": "display_data"
    },
    {
     "name": "stdout",
     "output_type": "stream",
     "text": [
      "==========> 15\n",
      "https://news.nate.com/view/20250413n18069?mid=n0103\n",
      "부산, 나무 쓰러짐 사고 등 31건 안전 조치\n"
     ]
    },
    {
     "data": {
      "text/html": [
       "<img src=\"https://thumbnews.nateimg.co.kr/news90///news.nateimg.co.kr/orgImg/yn/2025/04/13/202504132259517145_t.jpg\"/>"
      ],
      "text/plain": [
       "<IPython.core.display.Image object>"
      ]
     },
     "metadata": {},
     "output_type": "display_data"
    },
    {
     "name": "stdout",
     "output_type": "stream",
     "text": [
      "==========> 16\n",
      "https://news.nate.com/view/20250413n18068?mid=n0103\n",
      "울산에 강한 바람…지붕 전신주 덮쳐 55가구 정전\n"
     ]
    },
    {
     "data": {
      "text/html": [
       "<img src=\"https://thumbnews.nateimg.co.kr/news90///news.nateimg.co.kr/orgImg/yn/2025/04/13/202504132300053699_t.jpg\"/>"
      ],
      "text/plain": [
       "<IPython.core.display.Image object>"
      ]
     },
     "metadata": {},
     "output_type": "display_data"
    },
    {
     "name": "stdout",
     "output_type": "stream",
     "text": [
      "==========> 17\n",
      "https://news.nate.com/view/20250413n18038?mid=n0103\n",
      "공부 잘하는 약 오인 ADHD 치료제 품귀 장기화\n"
     ]
    },
    {
     "data": {
      "text/html": [
       "<img src=\"https://thumbnews.nateimg.co.kr/news90///news.nateimg.co.kr/orgImg/kx/2025/04/13/2025041320360417989_1744544164_1744534986.jpg\"/>"
      ],
      "text/plain": [
       "<IPython.core.display.Image object>"
      ]
     },
     "metadata": {},
     "output_type": "display_data"
    },
    {
     "name": "stdout",
     "output_type": "stream",
     "text": [
      "==========> 18\n",
      "https://news.nate.com/view/20250413n17697?mid=n0103\n",
      "'대선기획본부' 띄운 의협 \"'의개특위' 해체\"··· 전공의·의대생은 강경투쟁 요구\n"
     ]
    },
    {
     "data": {
      "text/html": [
       "<img src=\"https://thumbnews.nateimg.co.kr/news90///news.nateimg.co.kr/orgImg/se/2025/04/13/2GRIAGT1MX_5.JPG\"/>"
      ],
      "text/plain": [
       "<IPython.core.display.Image object>"
      ]
     },
     "metadata": {},
     "output_type": "display_data"
    },
    {
     "name": "stdout",
     "output_type": "stream",
     "text": [
      "==========> 19\n",
      "https://news.nate.com/view/20250413n16557?mid=n0103\n",
      "눈·우박·황사·태풍급 찬바람 '요란한 춘사월'…내일도 그래요\n"
     ]
    },
    {
     "data": {
      "text/html": [
       "<img src=\"https://thumbnews.nateimg.co.kr/news90///news.nateimg.co.kr/orgImg/ch/2025/04/13/ch_1744553104765_472438_0.jpg\"/>"
      ],
      "text/plain": [
       "<IPython.core.display.Image object>"
      ]
     },
     "metadata": {},
     "output_type": "display_data"
    },
    {
     "name": "stdout",
     "output_type": "stream",
     "text": [
      "==========> 20\n",
      "https://news.nate.com/view/20250413n16622?mid=n0103\n",
      "[포토] 산불피해 지원 바자회\n"
     ]
    },
    {
     "data": {
      "text/html": [
       "<img src=\"https://thumbnews.nateimg.co.kr/news90///news.nateimg.co.kr/orgImg/kx/2025/04/13/2025041320520418042_1744545124_1744545020.jpg\"/>"
      ],
      "text/plain": [
       "<IPython.core.display.Image object>"
      ]
     },
     "metadata": {},
     "output_type": "display_data"
    }
   ],
   "source": [
    "import requests\n",
    "from bs4 import BeautifulSoup\n",
    "from urllib.parse import urljoin\n",
    "from IPython.display import Image, display\n",
    "\n",
    "section_dict = {'최신뉴스':'n0100',\n",
    "                '정치':'n0101',\n",
    "                '경제':'n0102',\n",
    "                '사회':'n0103',\n",
    "                '세계':'n0104',\n",
    "                'IT/과학':'n0105',}\n",
    "\n",
    "req_header = {\n",
    "    'user-agent': 'Mozilla/5.0 (Windows NT 10.0; Win64; x64) AppleWebKit/537.36 (KHTML, like Gecko) Chrome/104.0.0.0 Safari/537.36'\n",
    "}\n",
    "\n",
    "def print_nate_news(section):\n",
    "    section_name = section_dict[section]\n",
    "    url = 'https://news.nate.com/recent?mid=' + section_name\n",
    "    print(url)\n",
    "    res = requests.get(url, headers=req_header)\n",
    "    soup = BeautifulSoup(res.text, 'html.parser')\n",
    "    if res.ok:\n",
    "        tags = soup.select(\"div.postListType.noListTitle div.mlt01\")\n",
    "        for idx, div in enumerate(tags, 1):\n",
    "            print(f'==========> {idx}')\n",
    "            a_tag = div.find('a')\n",
    "            a_join_url = urljoin(url, a_tag['href'])\n",
    "            print(a_join_url)\n",
    "\n",
    "            h2_tag = div.select(\"span.tb h2.tit\")\n",
    "            print(h2_tag[0].text)\n",
    "            \n",
    "            span_ib_tag = div.find('span', {'class':'ib'})\n",
    "            if span_ib_tag:\n",
    "                img_tag = span_ib_tag.find('img')\n",
    "                if img_tag:\n",
    "                    img_src = img_tag['src']\n",
    "                    photo_url = urljoin(url, img_src)\n",
    "                    display(Image(url=photo_url))\n",
    "\n",
    "\n",
    "    else:\n",
    "        print(f'에러코드 = {res.status_code}')\n",
    "\n",
    "print_nate_news('사회')"
   ]
  },
  {
   "cell_type": "markdown",
   "id": "45640860-a449-4285-90d7-5f300292b461",
   "metadata": {},
   "source": [
    "### 2-1 nate 최신뉴스 추출하기"
   ]
  },
  {
   "cell_type": "code",
   "execution_count": null,
   "id": "b30f7bf5",
   "metadata": {},
   "outputs": [],
   "source": [
    "import requests\n",
    "from bs4 import BeautifulSoup\n",
    "from urllib.parse import urljoin\n",
    "from IPython.display import Image, display\n",
    "\n",
    "url = 'https://news.nate.com/recent?mid=n0100'\n",
    "print(url)\n",
    "\n",
    "req_header = {\n",
    "    'user-agent': 'Mozilla/5.0 (Windows NT 10.0; Win64; x64) AppleWebKit/537.36 (KHTML, like Gecko) Chrome/104.0.0.0 Safari/537.36'\n",
    "}\n",
    "\n",
    "res = requests.get(url, headers=req_header)\n",
    "print(type(res))\n",
    "print(res.status_code)\n",
    "\n",
    "if res.ok:\n",
    "    res.encoding = 'euc-kr'\n",
    "    html = res.text\n",
    "    soup = BeautifulSoup(html, 'html.parser')\n",
    "    \n",
    "    tags = soup.select(\"div.postListType.noListTitle div.mlt01\")\n",
    "    print(len(tags))\n",
    "\n",
    "    for idx,div_tag in enumerate(tags,1): \n",
    "        print(f'============>> {idx}')       \n",
    "        a_tag = div_tag.find('a')\n",
    "        a_join_url = urljoin(url,a_tag['href'])\n",
    "        print(a_join_url)\n",
    "\n",
    "        img_tag = div_tag.select_one('span.ib img')\n",
    "        if img_tag:\n",
    "            photo_url = urljoin(url,img_tag['src'])\n",
    "            print(photo_url)\n",
    "            display(Image(url=photo_url))\n",
    "\n",
    "        h2_tag = div_tag.select_one('span.tb h2.tit')\n",
    "        title = h2_tag.text\n",
    "        print(title)\n",
    "\n",
    "else:\n",
    "    print(f'에러코드 = {res.status_code}')\n"
   ]
  },
  {
   "cell_type": "markdown",
   "id": "1d027530",
   "metadata": {},
   "source": [
    "## 2-2. Nate 뉴스제목과 Image 출력하기\n",
    "* 함수로 선언하여 처리하기"
   ]
  },
  {
   "cell_type": "code",
   "execution_count": 61,
   "id": "b20accc4",
   "metadata": {},
   "outputs": [
    {
     "name": "stdout",
     "output_type": "stream",
     "text": [
      "{'최신뉴스': 'n0100', '정치': 'n0200', '경제': 'n0300', '사회': 'n0400', '세계': 'n0500', 'IT/과학': 'n0600'}\n",
      "https://news.nate.com/recent?mid=n0600\n",
      "<class 'requests.models.Response'>\n",
      "200\n",
      "======> https://news.nate.com/recent?mid=n0600 IT/과학 뉴스 <======\n",
      "20\n",
      "============>> 1\n",
      "https://news.nate.com/view/20250413n13426?mid=n0600\n",
      "https://thumbnews.nateimg.co.kr/news90///news.nateimg.co.kr/orgImg/mk/2025/04/13/20250414_01160117000001_L00.jpg\n"
     ]
    },
    {
     "data": {
      "text/html": [
       "<img src=\"https://thumbnews.nateimg.co.kr/news90///news.nateimg.co.kr/orgImg/mk/2025/04/13/20250414_01160117000001_L00.jpg\"/>"
      ],
      "text/plain": [
       "<IPython.core.display.Image object>"
      ]
     },
     "metadata": {},
     "output_type": "display_data"
    },
    {
     "name": "stdout",
     "output_type": "stream",
     "text": [
      "[IR52 장영실상] 전기차 운전석 여유공간 확 늘려\n",
      "============>> 2\n",
      "https://news.nate.com/view/20250413n14031?mid=n0600\n",
      "https://thumbnews.nateimg.co.kr/news90///news.nateimg.co.kr/orgImg/mk/2025/04/13/20250414_01160116000002_L00.jpg\n"
     ]
    },
    {
     "data": {
      "text/html": [
       "<img src=\"https://thumbnews.nateimg.co.kr/news90///news.nateimg.co.kr/orgImg/mk/2025/04/13/20250414_01160116000002_L00.jpg\"/>"
      ],
      "text/plain": [
       "<IPython.core.display.Image object>"
      ]
     },
     "metadata": {},
     "output_type": "display_data"
    },
    {
     "name": "stdout",
     "output_type": "stream",
     "text": [
      "[#Let's 스타트업] \"저작권·초상권 문제 없는 AI 이미지 생성 지원해요\"\n",
      "============>> 3\n",
      "https://news.nate.com/view/20250413n12868?mid=n0600\n",
      "https://thumbnews.nateimg.co.kr/news90///news.nateimg.co.kr/orgImg/hi/2025/04/13/ac83c70b-18a5-4bda-bd92-45ebbfe492c7.jpg\n"
     ]
    },
    {
     "data": {
      "text/html": [
       "<img src=\"https://thumbnews.nateimg.co.kr/news90///news.nateimg.co.kr/orgImg/hi/2025/04/13/ac83c70b-18a5-4bda-bd92-45ebbfe492c7.jpg\"/>"
      ],
      "text/plain": [
       "<IPython.core.display.Image object>"
      ]
     },
     "metadata": {},
     "output_type": "display_data"
    },
    {
     "name": "stdout",
     "output_type": "stream",
     "text": [
      "'아이폰 관세 폭탄' 피했다…트럼프 \"상호관세서 스마트폰 제외\"\n",
      "============>> 4\n",
      "https://news.nate.com/view/20250413n17220?mid=n0600\n",
      "https://thumbnews.nateimg.co.kr/news90///news.nateimg.co.kr/orgImg/yn/2025/04/13/202504131424028959_t.jpg\n"
     ]
    },
    {
     "data": {
      "text/html": [
       "<img src=\"https://thumbnews.nateimg.co.kr/news90///news.nateimg.co.kr/orgImg/yn/2025/04/13/202504131424028959_t.jpg\"/>"
      ],
      "text/plain": [
       "<IPython.core.display.Image object>"
      ]
     },
     "metadata": {},
     "output_type": "display_data"
    },
    {
     "name": "stdout",
     "output_type": "stream",
     "text": [
      "[자막뉴스] 단순한 패치 아니다…땀 닿자 '몸 속 건강' 순식간에 확인\n",
      "============>> 5\n",
      "https://news.nate.com/view/20250413n17126?mid=n0600\n",
      "https://thumbnews.nateimg.co.kr/news90///news.nateimg.co.kr/orgImg/mk/2025/04/13/news-p.v1.20250413.9e5aad9839e44272a8af92bd07052b59_P1.jpg\n"
     ]
    },
    {
     "data": {
      "text/html": [
       "<img src=\"https://thumbnews.nateimg.co.kr/news90///news.nateimg.co.kr/orgImg/mk/2025/04/13/news-p.v1.20250413.9e5aad9839e44272a8af92bd07052b59_P1.jpg\"/>"
      ],
      "text/plain": [
       "<IPython.core.display.Image object>"
      ]
     },
     "metadata": {},
     "output_type": "display_data"
    },
    {
     "name": "stdout",
     "output_type": "stream",
     "text": [
      "\"누가 더 똑똑한지 겨뤄보자\"…성능 대전 벌어진 AI, 조작 논란도?\n",
      "============>> 6\n",
      "https://news.nate.com/view/20250413n06850?mid=n0600\n",
      "https://thumbnews.nateimg.co.kr/news90///news.nateimg.co.kr/orgImg/ae/2025/04/13/ae_1744546565444_567880_0.jpg\n"
     ]
    },
    {
     "data": {
      "text/html": [
       "<img src=\"https://thumbnews.nateimg.co.kr/news90///news.nateimg.co.kr/orgImg/ae/2025/04/13/ae_1744546565444_567880_0.jpg\"/>"
      ],
      "text/plain": [
       "<IPython.core.display.Image object>"
      ]
     },
     "metadata": {},
     "output_type": "display_data"
    },
    {
     "name": "stdout",
     "output_type": "stream",
     "text": [
      "\"엄마들 사이에선 사이버 오은영 선생님이에요\"…'신종 육아법' 깜짝\n",
      "============>> 7\n",
      "https://news.nate.com/view/20250413n06292?mid=n0600\n",
      "https://thumbnews.nateimg.co.kr/news90///news.nateimg.co.kr/orgImg/cz/2025/04/13/cz_1744545484517_581832_0.jpg\n"
     ]
    },
    {
     "data": {
      "text/html": [
       "<img src=\"https://thumbnews.nateimg.co.kr/news90///news.nateimg.co.kr/orgImg/cz/2025/04/13/cz_1744545484517_581832_0.jpg\"/>"
      ],
      "text/plain": [
       "<IPython.core.display.Image object>"
      ]
     },
     "metadata": {},
     "output_type": "display_data"
    },
    {
     "name": "stdout",
     "output_type": "stream",
     "text": [
      "화학硏, 유연하고 튼튼한 탄소나노튜브 열전 소재 개발\n",
      "============>> 8\n",
      "https://news.nate.com/view/20250413n16466?mid=n0600\n",
      "https://thumbnews.nateimg.co.kr/news90///news.nateimg.co.kr/orgImg/hr/2025/04/13/news-p.v1.20250411.4d83831494d74a5c89b79f4890c787c9_P1.jpg\n"
     ]
    },
    {
     "data": {
      "text/html": [
       "<img src=\"https://thumbnews.nateimg.co.kr/news90///news.nateimg.co.kr/orgImg/hr/2025/04/13/news-p.v1.20250411.4d83831494d74a5c89b79f4890c787c9_P1.jpg\"/>"
      ],
      "text/plain": [
       "<IPython.core.display.Image object>"
      ]
     },
     "metadata": {},
     "output_type": "display_data"
    },
    {
     "name": "stdout",
     "output_type": "stream",
     "text": [
      "[단독] \"전관예우 노렸나?\" 중국에 '내 정보' 넘겼다던 카카오페이…결국\n",
      "============>> 9\n",
      "https://news.nate.com/view/20250413n13984?mid=n0600\n",
      "https://thumbnews.nateimg.co.kr/news90///news.nateimg.co.kr/orgImg/se/2025/04/13/2GRI8KVB3N_2.png\n"
     ]
    },
    {
     "data": {
      "text/html": [
       "<img src=\"https://thumbnews.nateimg.co.kr/news90///news.nateimg.co.kr/orgImg/se/2025/04/13/2GRI8KVB3N_2.png\"/>"
      ],
      "text/plain": [
       "<IPython.core.display.Image object>"
      ]
     },
     "metadata": {},
     "output_type": "display_data"
    },
    {
     "name": "stdout",
     "output_type": "stream",
     "text": [
      "네이버, 모빌리티·커머스 '버티컬 공략'···카카오는 오픈AI와 손잡고 대중화 추진 [AI 비서, 모든 산업 삼킨다]\n",
      "============>> 10\n",
      "https://news.nate.com/view/20250413n14130?mid=n0600\n",
      "https://thumbnews.nateimg.co.kr/news90///news.nateimg.co.kr/orgImg/se/2025/04/13/2GRI8KMGFY_2.jpg\n"
     ]
    },
    {
     "data": {
      "text/html": [
       "<img src=\"https://thumbnews.nateimg.co.kr/news90///news.nateimg.co.kr/orgImg/se/2025/04/13/2GRI8KMGFY_2.jpg\"/>"
      ],
      "text/plain": [
       "<IPython.core.display.Image object>"
      ]
     },
     "metadata": {},
     "output_type": "display_data"
    },
    {
     "name": "stdout",
     "output_type": "stream",
     "text": [
      "심리 상담해주고 아기 울음소리 분석···단순 챗봇 넘어 '의료·육아 조력자'로[AI 비서, 모든 산업 삼킨다]\n",
      "============>> 11\n",
      "https://news.nate.com/view/20250413n14188?mid=n0600\n",
      "https://thumbnews.nateimg.co.kr/news90///news.nateimg.co.kr/orgImg/se/2025/04/13/2GRI8REBRQ_3.jpg\n"
     ]
    },
    {
     "data": {
      "text/html": [
       "<img src=\"https://thumbnews.nateimg.co.kr/news90///news.nateimg.co.kr/orgImg/se/2025/04/13/2GRI8REBRQ_3.jpg\"/>"
      ],
      "text/plain": [
       "<IPython.core.display.Image object>"
      ]
     },
     "metadata": {},
     "output_type": "display_data"
    },
    {
     "name": "stdout",
     "output_type": "stream",
     "text": [
      "美中과 더 벌어지면 기술 식민지 전락···정부 전방위 지원 절실[AI 비서, 모든 산업 삼킨다]\n",
      "============>> 12\n",
      "https://news.nate.com/view/20250413n16089?mid=n0600\n",
      "https://thumbnews.nateimg.co.kr/news90///news.nateimg.co.kr/orgImg/at/2025/04/13/20250413001827234_1.jpg\n"
     ]
    },
    {
     "data": {
      "text/html": [
       "<img src=\"https://thumbnews.nateimg.co.kr/news90///news.nateimg.co.kr/orgImg/at/2025/04/13/20250413001827234_1.jpg\"/>"
      ],
      "text/plain": [
       "<IPython.core.display.Image object>"
      ]
     },
     "metadata": {},
     "output_type": "display_data"
    },
    {
     "name": "stdout",
     "output_type": "stream",
     "text": [
      "\"이건 못 참지\" 재미와 성능 보장하는 롤체 필승 유물 공략\n",
      "============>> 13\n",
      "https://news.nate.com/view/20250413n15989?mid=n0600\n",
      "해외 빅테크 절세 테크닉에 코 베이는 韓\n",
      "============>> 14\n",
      "https://news.nate.com/view/20250413n15987?mid=n0600\n",
      "https://thumbnews.nateimg.co.kr/news90///news.nateimg.co.kr/orgImg/fn/2025/04/13/202411051852478569_l.jpg\n"
     ]
    },
    {
     "data": {
      "text/html": [
       "<img src=\"https://thumbnews.nateimg.co.kr/news90///news.nateimg.co.kr/orgImg/fn/2025/04/13/202411051852478569_l.jpg\"/>"
      ],
      "text/plain": [
       "<IPython.core.display.Image object>"
      ]
     },
     "metadata": {},
     "output_type": "display_data"
    },
    {
     "name": "stdout",
     "output_type": "stream",
     "text": [
      "\"1조 벌고 한국서 세금 54억을 내?\" 해외 빅테크의 절세 테크닉\n",
      "============>> 15\n",
      "https://news.nate.com/view/20250413n14030?mid=n0600\n",
      "https://thumbnews.nateimg.co.kr/news90///news.nateimg.co.kr/orgImg/mk/2025/04/13/20250414_01160116000003_L00.jpg\n"
     ]
    },
    {
     "data": {
      "text/html": [
       "<img src=\"https://thumbnews.nateimg.co.kr/news90///news.nateimg.co.kr/orgImg/mk/2025/04/13/20250414_01160116000003_L00.jpg\"/>"
      ],
      "text/plain": [
       "<IPython.core.display.Image object>"
      ]
     },
     "metadata": {},
     "output_type": "display_data"
    },
    {
     "name": "stdout",
     "output_type": "stream",
     "text": [
      "\"카카오 기술로 의료 플랫폼 종합병원 17곳과 협력할것\"\n",
      "============>> 16\n",
      "https://news.nate.com/view/20250413n14029?mid=n0600\n",
      "https://thumbnews.nateimg.co.kr/news90///news.nateimg.co.kr/orgImg/mk/2025/04/13/20250414_01160116000001_L00.jpg\n"
     ]
    },
    {
     "data": {
      "text/html": [
       "<img src=\"https://thumbnews.nateimg.co.kr/news90///news.nateimg.co.kr/orgImg/mk/2025/04/13/20250414_01160116000001_L00.jpg\"/>"
      ],
      "text/plain": [
       "<IPython.core.display.Image object>"
      ]
     },
     "metadata": {},
     "output_type": "display_data"
    },
    {
     "name": "stdout",
     "output_type": "stream",
     "text": [
      "추론형 AI 급성장…테스트 시장도 커진다\n",
      "============>> 17\n",
      "https://news.nate.com/view/20250413n03409?mid=n0600\n",
      "https://thumbnews.nateimg.co.kr/news90///news.nateimg.co.kr/orgImg/ed/2025/04/13/PS25041300517.jpg\n"
     ]
    },
    {
     "data": {
      "text/html": [
       "<img src=\"https://thumbnews.nateimg.co.kr/news90///news.nateimg.co.kr/orgImg/ed/2025/04/13/PS25041300517.jpg\"/>"
      ],
      "text/plain": [
       "<IPython.core.display.Image object>"
      ]
     },
     "metadata": {},
     "output_type": "display_data"
    },
    {
     "name": "stdout",
     "output_type": "stream",
     "text": [
      "LG U+-동물자유연대, 재난현장 반려동물 구호 강화\n",
      "============>> 18\n",
      "https://news.nate.com/view/20250413n03922?mid=n0600\n",
      "https://thumbnews.nateimg.co.kr/news90///news.nateimg.co.kr/orgImg/ed/2025/04/13/PS25041300514.jpg\n"
     ]
    },
    {
     "data": {
      "text/html": [
       "<img src=\"https://thumbnews.nateimg.co.kr/news90///news.nateimg.co.kr/orgImg/ed/2025/04/13/PS25041300514.jpg\"/>"
      ],
      "text/plain": [
       "<IPython.core.display.Image object>"
      ]
     },
     "metadata": {},
     "output_type": "display_data"
    },
    {
     "name": "stdout",
     "output_type": "stream",
     "text": [
      "국립광주과학관, 다문화가정 아동 위한 '미래 과학자 생일파티' 열어\n",
      "============>> 19\n",
      "https://news.nate.com/view/20250413n06936?mid=n0600\n",
      "https://thumbnews.nateimg.co.kr/news90///news.nateimg.co.kr/orgImg/ed/2025/04/13/PS25041300491.jpg\n"
     ]
    },
    {
     "data": {
      "text/html": [
       "<img src=\"https://thumbnews.nateimg.co.kr/news90///news.nateimg.co.kr/orgImg/ed/2025/04/13/PS25041300491.jpg\"/>"
      ],
      "text/plain": [
       "<IPython.core.display.Image object>"
      ]
     },
     "metadata": {},
     "output_type": "display_data"
    },
    {
     "name": "stdout",
     "output_type": "stream",
     "text": [
      "매출 두배씩 뛴 SKB '디지털사이니지'…AI 결합해 시장공략 박차\n",
      "============>> 20\n",
      "https://news.nate.com/view/20250413n09561?mid=n0600\n",
      "https://thumbnews.nateimg.co.kr/news90///news.nateimg.co.kr/orgImg/ed/2025/04/13/PS25041300490.jpg\n"
     ]
    },
    {
     "data": {
      "text/html": [
       "<img src=\"https://thumbnews.nateimg.co.kr/news90///news.nateimg.co.kr/orgImg/ed/2025/04/13/PS25041300490.jpg\"/>"
      ],
      "text/plain": [
       "<IPython.core.display.Image object>"
      ]
     },
     "metadata": {},
     "output_type": "display_data"
    },
    {
     "name": "stdout",
     "output_type": "stream",
     "text": [
      "[단독] 갈 길 먼 '양자기술'…韓 특허건수 美의 9분의 1\n"
     ]
    }
   ],
   "source": [
    "import requests\n",
    "from bs4 import BeautifulSoup\n",
    "from urllib.parse import urljoin\n",
    "from IPython.display import Image, display\n",
    "\n",
    "section_dict = {'최신뉴스':'n0100','정치':'n0200','경제':'n0300','사회':'n0400',\\\n",
    "                '세계':'n0500','IT/과학':'n0600'}\n",
    "print(section_dict)\n",
    "\n",
    "def print_news(section_name):    \n",
    "    m_id = section_dict[section_name]\n",
    "\n",
    "    url = f'https://news.nate.com/recent?mid={m_id}'\n",
    "    print(url)\n",
    "\n",
    "    req_header = {\n",
    "        'user-agent': 'Mozilla/5.0 (Windows NT 10.0; Win64; x64) AppleWebKit/537.36 (KHTML, like Gecko) Chrome/104.0.0.0 Safari/537.36'\n",
    "    }\n",
    "\n",
    "    res = requests.get(url, headers=req_header)\n",
    "    print(type(res))\n",
    "    print(res.status_code)\n",
    "\n",
    "    if res.ok:\n",
    "        res.encoding = 'euc-kr'\n",
    "        html = res.text\n",
    "        soup = BeautifulSoup(html, 'html.parser')\n",
    "\n",
    "        print(f'======> {url} {section_name} 뉴스 <======')   \n",
    "\n",
    "        tags = soup.select(\"div.postListType.noListTitle div.mlt01\")\n",
    "        print(len(tags))\n",
    "\n",
    "        for idx,div_tag in enumerate(tags,1): \n",
    "            print(f'============>> {idx}')       \n",
    "            a_tag = div_tag.find('a')\n",
    "            a_join_url = urljoin(url,a_tag['href'])\n",
    "            print(a_join_url)\n",
    "\n",
    "            img_tag = div_tag.select_one('span.ib img')\n",
    "            if img_tag:\n",
    "                photo_url = urljoin(url,img_tag['src'])\n",
    "                print(photo_url)\n",
    "                display(Image(url=photo_url))\n",
    "\n",
    "            h2_tag = div_tag.select_one('span.tb h2.tit')\n",
    "            title = h2_tag.text\n",
    "            print(title)\n",
    "\n",
    "    else:\n",
    "        print(f'에러코드 = {res.status_code}')\n",
    "\n",
    "print_news('IT/과학')"
   ]
  }
 ],
 "metadata": {
  "kernelspec": {
   "display_name": "base",
   "language": "python",
   "name": "python3"
  },
  "language_info": {
   "codemirror_mode": {
    "name": "ipython",
    "version": 3
   },
   "file_extension": ".py",
   "mimetype": "text/x-python",
   "name": "python",
   "nbconvert_exporter": "python",
   "pygments_lexer": "ipython3",
   "version": "3.12.7"
  }
 },
 "nbformat": 4,
 "nbformat_minor": 5
}
