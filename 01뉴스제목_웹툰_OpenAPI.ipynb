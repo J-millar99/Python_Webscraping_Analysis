{
 "cells": [
  {
   "cell_type": "markdown",
   "id": "eb0bfa44",
   "metadata": {},
   "source": [
    "## 1. 뉴스제목 가져오기\n",
    "* user-agent 요청헤더를 반드시 설정해야 한다."
   ]
  },
  {
   "cell_type": "code",
   "execution_count": 10,
   "id": "f0d27781",
   "metadata": {},
   "outputs": [
    {
     "name": "stdout",
     "output_type": "stream",
     "text": [
      "Name: requests\n",
      "Version: 2.32.3\n",
      "Summary: Python HTTP for Humans.\n",
      "Home-page: https://requests.readthedocs.io\n",
      "Author: Kenneth Reitz\n",
      "Author-email: me@kennethreitz.org\n",
      "License: Apache-2.0\n",
      "Location: C:\\Users\\user\\anaconda3\\Lib\\site-packages\n",
      "Requires: certifi, charset-normalizer, idna, urllib3\n",
      "Required-by: anaconda-catalogs, anaconda-client, anaconda-cloud-auth, anaconda-project, conda, conda-build, conda-repo-cli, conda_package_streaming, cookiecutter, datashader, jupyterlab_server, panel, requests-file, requests-toolbelt, Sphinx, streamlit, tldextract\n"
     ]
    }
   ],
   "source": [
    "# requests 라이브러리 설치여부 확인\n",
    "!pip show requests"
   ]
  },
  {
   "cell_type": "code",
   "execution_count": 11,
   "id": "f7798ea8",
   "metadata": {},
   "outputs": [
    {
     "name": "stdout",
     "output_type": "stream",
     "text": [
      "Name: beautifulsoup4\n",
      "Version: 4.12.3\n",
      "Summary: Screen-scraping library\n",
      "Home-page: https://www.crummy.com/software/BeautifulSoup/bs4/\n",
      "Author: \n",
      "Author-email: Leonard Richardson <leonardr@segfault.org>\n",
      "License: MIT License\n",
      "Location: C:\\Users\\user\\anaconda3\\Lib\\site-packages\n",
      "Requires: soupsieve\n",
      "Required-by: conda-build, nbconvert\n"
     ]
    }
   ],
   "source": [
    "# beautifulsoup4 라이브러리 설치여부 확인\n",
    "!pip show beautifulsoup4"
   ]
  },
  {
   "cell_type": "code",
   "execution_count": 12,
   "id": "bf80a429",
   "metadata": {},
   "outputs": [],
   "source": [
    "# reqeusts, bs4 import\n",
    "import requests, bs4\n",
    "# BeautifulSoup 클래스 import\n",
    "from bs4 import BeautifulSoup"
   ]
  },
  {
   "cell_type": "code",
   "execution_count": 13,
   "id": "9788d6ac",
   "metadata": {},
   "outputs": [
    {
     "name": "stdout",
     "output_type": "stream",
     "text": [
      "request 버전 2.32.3\n",
      "beautifulsoup4 버전 4.12.3\n"
     ]
    }
   ],
   "source": [
    "# requests, bs4 버전 확인하기\n",
    "print(f'request 버전 {requests.__version__}')\n",
    "print(f'beautifulsoup4 버전 {bs4.__version__}')"
   ]
  },
  {
   "cell_type": "markdown",
   "id": "ccb91def-cde3-4aeb-b0e5-2e7233500333",
   "metadata": {},
   "source": [
    "### 1. 뉴스 제목 추출하기"
   ]
  },
  {
   "cell_type": "code",
   "execution_count": null,
   "id": "94c12fd6",
   "metadata": {},
   "outputs": [
    {
     "name": "stdout",
     "output_type": "stream",
     "text": [
      "https://news.naver.com/section/105\n",
      "<Response [200]>\n",
      "<class 'requests.models.Response'>\n",
      "200 True\n",
      "86\n",
      "<class 'bs4.element.ResultSet'>\n",
      "[<a class=\"sa_text_title _NLOG_IMPRESSION\" data-clk=\"itn.clart\" data-imp-gdid=\"88213rx9_000000000000000000035132\" data-imp-index=\"1\" data-imp-url=\"https://n.news.naver.com/mnews/article/648/0000035132\" href=\"https://n.news.naver.com/mnews/article/648/0000035132\">\n",
      "<strong class=\"sa_text_strong\">SKT, '스캠뱅가드 기술' 에이닷·금융사에 적용</strong>\n",
      "</a>, <a class=\"sa_text_cmt _COMMENT_COUNT_LIST\" data-object-id=\"news648,0000035132\" data-ticket=\"news\" data-zero-allow=\"false\" href=\"https://n.news.naver.com/mnews/article/comment/648/0000035132\" style=\"display: none;\"></a>, <a class=\"sa_text_title _NLOG_IMPRESSION\" data-clk=\"itn.clart\" data-imp-gdid=\"08138263_000000000000000008180853\" data-imp-index=\"2\" data-imp-url=\"https://n.news.naver.com/mnews/article/421/0008180853\" href=\"https://n.news.naver.com/mnews/article/421/0008180853\">\n",
      "<strong class=\"sa_text_strong\">뤼튼 \"쓸수록 돈버는 무료 AI모델 지향…편의점 등 30여곳 제휴\"</strong>\n",
      "</a>, <a class=\"sa_text_cmt _COMMENT_COUNT_LIST\" data-object-id=\"news421,0008180853\" data-ticket=\"news\" data-zero-allow=\"false\" href=\"https://n.news.naver.com/mnews/article/comment/421/0008180853\" style=\"display: none;\"></a>, <a class=\"sa_text_title _NLOG_IMPRESSION\" data-clk=\"itn.clart\" data-imp-gdid=\"8800011C_000000000000000001247427\" data-imp-index=\"3\" data-imp-url=\"https://n.news.naver.com/mnews/article/055/0001247427\" href=\"https://n.news.naver.com/mnews/article/055/0001247427\">\n",
      "<strong class=\"sa_text_strong\">화학·금속·세라믹·섬유 등 공공데이터 300만 건, 민간에 개방</strong>\n",
      "</a>, <a class=\"sa_text_cmt _COMMENT_COUNT_LIST\" data-object-id=\"news055,0001247427\" data-ticket=\"news\" data-zero-allow=\"false\" href=\"https://n.news.naver.com/mnews/article/comment/055/0001247427\" style=\"display: none;\"></a>, <a class=\"sa_text_title _NLOG_IMPRESSION\" data-clk=\"itn.clart\" data-imp-gdid=\"8812A0A8_000000000000000002942666\" data-imp-index=\"4\" data-imp-url=\"https://n.news.naver.com/mnews/article/119/0002942666\" href=\"https://n.news.naver.com/mnews/article/119/0002942666\">\n",
      "<strong class=\"sa_text_strong\">‘스미싱 문자 발송단계서부터 차단’…과기정통부, X-ray 서비스 시범 운영</strong>\n",
      "</a>, <a class=\"sa_text_cmt _COMMENT_COUNT_LIST\" data-object-id=\"news119,0002942666\" data-ticket=\"news\" data-zero-allow=\"false\" href=\"https://n.news.naver.com/mnews/article/comment/119/0002942666\" style=\"display: none;\"></a>, <a class=\"sa_text_title _NLOG_IMPRESSION\" data-clk=\"itn.clart\" data-imp-gdid=\"88127058_000000000000000001067721\" data-imp-index=\"5\" data-imp-url=\"https://n.news.naver.com/mnews/article/366/0001067721\" href=\"https://n.news.naver.com/mnews/article/366/0001067721\">\n",
      "<strong class=\"sa_text_strong\">델 테크놀로지스 “AI 워크로드 통합 서버 ‘델 파워엣지’ 공개... 기존 대비 성능 67% 향상”</strong>\n",
      "</a>, <a class=\"sa_text_cmt _COMMENT_COUNT_LIST\" data-object-id=\"news366,0001067721\" data-ticket=\"news\" data-zero-allow=\"false\" href=\"https://n.news.naver.com/mnews/article/comment/366/0001067721\" style=\"display: none;\"></a>, <a class=\"sa_text_title _NLOG_IMPRESSION\" data-clk=\"itn.clart\" data-imp-gdid=\"880000C2_000000000000000005177228\" data-imp-index=\"6\" data-imp-url=\"https://n.news.naver.com/mnews/article/008/0005177228\" href=\"https://n.news.naver.com/mnews/article/008/0005177228\">\n",
      "<strong class=\"sa_text_strong\">갤S25 카메라 켜고 \"어떤 옷 어울려?\"…AI가 자동 답한다</strong>\n",
      "</a>, <a class=\"sa_text_cmt _COMMENT_COUNT_LIST\" data-object-id=\"news008,0005177228\" data-ticket=\"news\" data-zero-allow=\"false\" href=\"https://n.news.naver.com/mnews/article/comment/008/0005177228\" style=\"display: none;\"></a>, <a class=\"sa_text_title _NLOG_IMPRESSION\" data-clk=\"itn.clart\" data-imp-gdid=\"880000BC_000000000000000005473112\" data-imp-index=\"7\" data-imp-url=\"https://n.news.naver.com/mnews/article/009/0005473112\" href=\"https://n.news.naver.com/mnews/article/009/0005473112\">\n",
      "<strong class=\"sa_text_strong\">카카오엔터 IPO 어렵자 카카오, 매각 추진한다</strong>\n",
      "</a>, <a class=\"sa_text_cmt _COMMENT_COUNT_LIST\" data-object-id=\"news009,0005473112\" data-ticket=\"news\" data-zero-allow=\"false\" href=\"https://n.news.naver.com/mnews/article/comment/009/0005473112\" style=\"display: none;\"></a>, <a class=\"sa_text_title _NLOG_IMPRESSION\" data-clk=\"airscont\" data-extra='{\"airs\":{\"model_version\":\"news_sec_v2.0\",\"session_id\":\"NmfAdrwrr7eL9kgd\"}}' data-gdid=\"881999s8_000000000000000000380351\" data-imp-url=\"https://n.news.naver.com/mnews/article/629/0000380351\" data-rank=\"1\" href=\"https://n.news.naver.com/mnews/article/629/0000380351\">\n",
      "<strong class=\"sa_text_strong\">네이버 AI 쇼핑, 시장 진입은 성공…경험 혁신은 '글쎄'</strong>\n",
      "</a>, <a class=\"sa_text_cmt _COMMENT_COUNT_LIST\" data-object-id=\"news629,0000380351\" data-ticket=\"news\" data-zero-allow=\"false\" href=\"https://n.news.naver.com/mnews/article/comment/629/0000380351\" style=\"display: none;\"></a>, <a class=\"sa_text_title _NLOG_IMPRESSION\" data-clk=\"airscont\" data-extra='{\"airs\":{\"model_version\":\"news_sec_v2.0\",\"session_id\":\"NmfAdrwrr7eL9kgd\"}}' data-gdid=\"88127058_000000000000000001067724\" data-imp-url=\"https://n.news.naver.com/mnews/article/366/0001067724\" data-rank=\"2\" href=\"https://n.news.naver.com/mnews/article/366/0001067724\">\n",
      "<strong class=\"sa_text_strong\">세계 첫 정자 생성 줄기세포 치료법 임상 시험, 남성 불임 치료 목표</strong>\n",
      "</a>, <a class=\"sa_text_cmt _COMMENT_COUNT_LIST\" data-object-id=\"news366,0001067724\" data-ticket=\"news\" data-zero-allow=\"false\" href=\"https://n.news.naver.com/mnews/article/comment/366/0001067724\" style=\"display: none;\"></a>, <a class=\"sa_text_title _NLOG_IMPRESSION\" data-clk=\"airscont\" data-extra='{\"airs\":{\"model_version\":\"news_sec_v2.0\",\"session_id\":\"NmfAdrwrr7eL9kgd\"}}' data-gdid=\"880000D6_000000000000000000922983\" data-imp-url=\"https://n.news.naver.com/mnews/article/031/0000922983\" data-rank=\"3\" href=\"https://n.news.naver.com/mnews/article/031/0000922983\">\n",
      "<strong class=\"sa_text_strong\">마이크론 \"9일부터 메모리 모듈 관세 할증 부과\"…삼성·하이닉스는?</strong>\n",
      "</a>, <a class=\"sa_text_cmt _COMMENT_COUNT_LIST\" data-object-id=\"news031,0000922983\" data-ticket=\"news\" data-zero-allow=\"false\" href=\"https://n.news.naver.com/mnews/article/comment/031/0000922983\" style=\"display: none;\"></a>, <a class=\"sa_text_title _NLOG_IMPRESSION\" data-clk=\"airscont\" data-extra='{\"airs\":{\"model_version\":\"news_sec_v2.0\",\"session_id\":\"NmfAdrwrr7eL9kgd\"}}' data-gdid=\"880000D6_000000000000000000922967\" data-imp-url=\"https://n.news.naver.com/mnews/article/031/0000922967\" data-rank=\"4\" href=\"https://n.news.naver.com/mnews/article/031/0000922967\">\n",
      "<strong class=\"sa_text_strong\">마침내 ISS 도착 한국계 미국인 조니 김 \"여기는 우주\" [지금은 우주]</strong>\n",
      "</a>, <a class=\"sa_text_cmt _COMMENT_COUNT_LIST\" data-object-id=\"news031,0000922967\" data-ticket=\"news\" data-zero-allow=\"false\" href=\"https://n.news.naver.com/mnews/article/comment/031/0000922967\" style=\"display: none;\"></a>, <a class=\"sa_text_title _NLOG_IMPRESSION\" data-clk=\"airscont\" data-extra='{\"airs\":{\"model_version\":\"news_sec_v2.0\",\"session_id\":\"NmfAdrwrr7eL9kgd\"}}' data-gdid=\"880000F2_000000000000000003432797\" data-imp-url=\"https://n.news.naver.com/mnews/article/025/0003432797\" data-rank=\"5\" href=\"https://n.news.naver.com/mnews/article/025/0003432797\">\n",
      "<strong class=\"sa_text_strong\">\"아빠, 20살때 몇 ㎏였어?\"…심장마비 위험 5분만에 아는 법</strong>\n",
      "</a>, <a class=\"sa_text_cmt _COMMENT_COUNT_LIST\" data-object-id=\"news025,0003432797\" data-ticket=\"news\" data-zero-allow=\"false\" href=\"https://n.news.naver.com/mnews/article/comment/025/0003432797\" style=\"display: none;\"></a>, <a class=\"sa_text_title _NLOG_IMPRESSION\" data-clk=\"airscont\" data-extra='{\"airs\":{\"model_version\":\"news_sec_v2.0\",\"session_id\":\"NmfAdrwrr7eL9kgd\"}}' data-gdid=\"8800010E_000000000000000002454521\" data-imp-url=\"https://n.news.naver.com/mnews/article/016/0002454521\" data-rank=\"6\" href=\"https://n.news.naver.com/mnews/article/016/0002454521\">\n",
      "<strong class=\"sa_text_strong\">“드디어 나온다” ‘65만원’ 짜리 게임기에 아재들도 ‘난리’…뭐길래</strong>\n",
      "</a>, <a class=\"sa_text_cmt _COMMENT_COUNT_LIST\" data-object-id=\"news016,0002454521\" data-ticket=\"news\" data-zero-allow=\"false\" href=\"https://n.news.naver.com/mnews/article/comment/016/0002454521\" style=\"display: none;\"></a>, <a class=\"sa_text_title _NLOG_IMPRESSION\" data-clk=\"airscont\" data-extra='{\"airs\":{\"model_version\":\"news_sec_v2.0\",\"session_id\":\"NmfAdrwrr7eL9kgd\"}}' data-gdid=\"880000D8_000000000000000015318359\" data-imp-url=\"https://n.news.naver.com/mnews/article/001/0015318359\" data-rank=\"7\" href=\"https://n.news.naver.com/mnews/article/001/0015318359\">\n",
      "<strong class=\"sa_text_strong\">존슨 전 영국 총리, 미국 여행 중 '타조 공격' 봉변</strong>\n",
      "</a>, <a class=\"sa_text_cmt _COMMENT_COUNT_LIST\" data-object-id=\"news001,0015318359\" data-ticket=\"news\" data-zero-allow=\"false\" href=\"https://n.news.naver.com/mnews/article/comment/001/0015318359\" style=\"display: none;\"></a>, <a class=\"sa_text_title _NLOG_IMPRESSION\" data-clk=\"airscont\" data-extra='{\"airs\":{\"model_version\":\"news_sec_v2.0\",\"session_id\":\"NmfAdrwrr7eL9kgd\"}}' data-gdid=\"88000127_000000000000000013171755\" data-imp-url=\"https://n.news.naver.com/mnews/article/003/0013171755\" data-rank=\"8\" href=\"https://n.news.naver.com/mnews/article/003/0013171755\">\n",
      "<strong class=\"sa_text_strong\">아이브·아이유 소속사 주인 바뀌나…카카오, 카카오엔터 매각 추진</strong>\n",
      "</a>, <a class=\"sa_text_cmt _COMMENT_COUNT_LIST\" data-object-id=\"news003,0013171755\" data-ticket=\"news\" data-zero-allow=\"false\" href=\"https://n.news.naver.com/mnews/article/comment/003/0013171755\" style=\"display: none;\"></a>, <a class=\"sa_text_title _NLOG_IMPRESSION\" data-clk=\"airscont\" data-extra='{\"airs\":{\"model_version\":\"news_sec_v2.0\",\"session_id\":\"FeLuhuZsV8nzPJfE\"}}' data-gdid=\"880000AD_000000000000000002946813\" data-imp-url=\"https://n.news.naver.com/mnews/article/029/0002946813\" data-rank=\"9\" href=\"https://n.news.naver.com/mnews/article/029/0002946813\">\n",
      "<strong class=\"sa_text_strong\">`RF 온라인 넥스트` 흥행에 출발 좋은 넷마블...`왕좌의 게임`으로 `굳히기`</strong>\n",
      "</a>, <a class=\"sa_text_cmt _COMMENT_COUNT_LIST\" data-object-id=\"news029,0002946813\" data-ticket=\"news\" data-zero-allow=\"false\" href=\"https://n.news.naver.com/mnews/article/comment/029/0002946813\" style=\"display: none;\"></a>, <a class=\"sa_text_title _NLOG_IMPRESSION\" data-clk=\"airscont\" data-extra='{\"airs\":{\"model_version\":\"news_sec_v2.0\",\"session_id\":\"NmfAdrwrr7eL9kgd\"}}' data-gdid=\"880000C2_000000000000000005177712\" data-imp-url=\"https://n.news.naver.com/mnews/article/008/0005177712\" data-rank=\"10\" href=\"https://n.news.naver.com/mnews/article/008/0005177712\">\n",
      "<strong class=\"sa_text_strong\">카카오, '아픈 손가락' 카카오엔터 매각 추진</strong>\n",
      "</a>, <a class=\"sa_text_cmt _COMMENT_COUNT_LIST\" data-object-id=\"news008,0005177712\" data-ticket=\"news\" data-zero-allow=\"false\" href=\"https://n.news.naver.com/mnews/article/comment/008/0005177712\" style=\"display: none;\"></a>, <a class=\"sa_text_title _NLOG_IMPRESSION\" data-clk=\"airscont\" data-extra='{\"airs\":{\"model_version\":\"news_sec_v2.0\",\"session_id\":\"NmfAdrwrr7eL9kgd\"}}' data-gdid=\"880000AD_000000000000000002946804\" data-imp-url=\"https://n.news.naver.com/mnews/article/029/0002946804\" data-rank=\"11\" href=\"https://n.news.naver.com/mnews/article/029/0002946804\">\n",
      "<strong class=\"sa_text_strong\">의정갈등에 `새우등 처지` 제약업계, 尹 파면에 \"정상화 기대\"</strong>\n",
      "</a>, <a class=\"sa_text_cmt _COMMENT_COUNT_LIST\" data-object-id=\"news029,0002946804\" data-ticket=\"news\" data-zero-allow=\"false\" href=\"https://n.news.naver.com/mnews/article/comment/029/0002946804\" style=\"display: none;\"></a>, <a class=\"sa_text_title _NLOG_IMPRESSION\" data-clk=\"airscont\" data-extra='{\"airs\":{\"model_version\":\"news_sec_v2.0\",\"session_id\":\"NmfAdrwrr7eL9kgd\"}}' data-gdid=\"8800010E_000000000000000002454498\" data-imp-url=\"https://n.news.naver.com/mnews/article/016/0002454498\" data-rank=\"12\" href=\"https://n.news.naver.com/mnews/article/016/0002454498\">\n",
      "<strong class=\"sa_text_strong\">“이건 너무 심했다” 발칵 뒤집힌 애플…쏟아지는 뭇매에 결국</strong>\n",
      "</a>, <a class=\"sa_text_cmt _COMMENT_COUNT_LIST\" data-object-id=\"news016,0002454498\" data-ticket=\"news\" data-zero-allow=\"false\" href=\"https://n.news.naver.com/mnews/article/comment/016/0002454498\" style=\"display: none;\"></a>, <a class=\"sa_text_title _NLOG_IMPRESSION\" data-clk=\"airscont\" data-extra='{\"airs\":{\"model_version\":\"news_sec_v2.0\",\"session_id\":\"NmfAdrwrr7eL9kgd\"}}' data-gdid=\"880000EA_000000000000000003301461\" data-imp-url=\"https://n.news.naver.com/mnews/article/030/0003301461\" data-rank=\"13\" href=\"https://n.news.naver.com/mnews/article/030/0003301461\">\n",
      "<strong class=\"sa_text_strong\">SK그룹, SK실트론 매각 추진</strong>\n",
      "</a>, <a class=\"sa_text_cmt _COMMENT_COUNT_LIST\" data-object-id=\"news030,0003301461\" data-ticket=\"news\" data-zero-allow=\"false\" href=\"https://n.news.naver.com/mnews/article/comment/030/0003301461\" style=\"display: none;\"></a>, <a class=\"sa_text_title _NLOG_IMPRESSION\" data-clk=\"airscont\" data-extra='{\"airs\":{\"model_version\":\"news_sec_v2.0\",\"session_id\":\"NmfAdrwrr7eL9kgd\"}}' data-gdid=\"88000107_000000000000000005116736\" data-imp-url=\"https://n.news.naver.com/mnews/article/015/0005116736\" data-rank=\"14\" href=\"https://n.news.naver.com/mnews/article/015/0005116736\">\n",
      "<strong class=\"sa_text_strong\">50만원짜리가 수억원으로 '변신'…한국도 뛰어들었다 [긱스]</strong>\n",
      "</a>, <a class=\"sa_text_cmt _COMMENT_COUNT_LIST\" data-object-id=\"news015,0005116736\" data-ticket=\"news\" data-zero-allow=\"false\" href=\"https://n.news.naver.com/mnews/article/comment/015/0005116736\" style=\"display: none;\"></a>, <a class=\"sa_text_title _NLOG_IMPRESSION\" data-clk=\"airscont\" data-extra='{\"airs\":{\"model_version\":\"news_sec_v2.0\",\"session_id\":\"NmfAdrwrr7eL9kgd\"}}' data-gdid=\"88000107_000000000000000005116734\" data-imp-url=\"https://n.news.naver.com/mnews/article/015/0005116734\" data-rank=\"15\" href=\"https://n.news.naver.com/mnews/article/015/0005116734\">\n",
      "<strong class=\"sa_text_strong\">\"수백 대 GPU 서버 효율적 관리…최적의 AI 연구개발 환경 만든다\" [긱스]</strong>\n",
      "</a>, <a class=\"sa_text_cmt _COMMENT_COUNT_LIST\" data-object-id=\"news015,0005116734\" data-ticket=\"news\" data-zero-allow=\"false\" href=\"https://n.news.naver.com/mnews/article/comment/015/0005116734\" style=\"display: none;\"></a>, <a class=\"sa_text_title _NLOG_IMPRESSION\" data-clk=\"airscont\" data-extra='{\"airs\":{\"model_version\":\"news_sec_v2.0\",\"session_id\":\"NmfAdrwrr7eL9kgd\"}}' data-gdid=\"88000107_000000000000000005116731\" data-imp-url=\"https://n.news.naver.com/mnews/article/015/0005116731\" data-rank=\"16\" href=\"https://n.news.naver.com/mnews/article/015/0005116731\">\n",
      "<strong class=\"sa_text_strong\">\"돈도 못 벌면서\" 구박 받던 당근…드디어 돈 벌었다 [긱스]</strong>\n",
      "</a>, <a class=\"sa_text_cmt _COMMENT_COUNT_LIST\" data-object-id=\"news015,0005116731\" data-ticket=\"news\" data-zero-allow=\"false\" href=\"https://n.news.naver.com/mnews/article/comment/015/0005116731\" style=\"display: none;\"></a>, <a class=\"sa_text_title _NLOG_IMPRESSION\" data-clk=\"airscont\" data-extra='{\"airs\":{\"model_version\":\"news_sec_v2.0\",\"session_id\":\"tD2IFTPGpyV15NyT\"}}' data-gdid=\"880000AD_000000000000000002946789\" data-imp-url=\"https://n.news.naver.com/mnews/article/029/0002946789\" data-rank=\"17\" href=\"https://n.news.naver.com/mnews/article/029/0002946789\">\n",
      "<strong class=\"sa_text_strong\">AI가 바꾼 검색 풍경… 이젠 키워드 말고 사진 `찰칵`</strong>\n",
      "</a>, <a class=\"sa_text_cmt _COMMENT_COUNT_LIST\" data-object-id=\"news029,0002946789\" data-ticket=\"news\" data-zero-allow=\"false\" href=\"https://n.news.naver.com/mnews/article/comment/029/0002946789\" style=\"display: none;\"></a>, <a class=\"sa_text_title _NLOG_IMPRESSION\" data-clk=\"airscont\" data-extra='{\"airs\":{\"model_version\":\"news_sec_v2.0\",\"session_id\":\"NmfAdrwrr7eL9kgd\"}}' data-gdid=\"880000D6_000000000000000000922940\" data-imp-url=\"https://n.news.naver.com/mnews/article/031/0000922940\" data-rank=\"18\" href=\"https://n.news.naver.com/mnews/article/031/0000922940\">\n",
      "<strong class=\"sa_text_strong\">\"애플, 美 관세 피해 중국 아닌 인도서 아이폰 생산 늘린다\"</strong>\n",
      "</a>, <a class=\"sa_text_cmt _COMMENT_COUNT_LIST\" data-object-id=\"news031,0000922940\" data-ticket=\"news\" data-zero-allow=\"false\" href=\"https://n.news.naver.com/mnews/article/comment/031/0000922940\" style=\"display: none;\"></a>, <a class=\"sa_text_title _NLOG_IMPRESSION\" data-clk=\"airscont\" data-extra='{\"airs\":{\"model_version\":\"news_sec_v2.0\",\"session_id\":\"NmfAdrwrr7eL9kgd\"}}' data-gdid=\"88000108_000000000000000004471741\" data-imp-url=\"https://n.news.naver.com/mnews/article/011/0004471741\" data-rank=\"19\" href=\"https://n.news.naver.com/mnews/article/011/0004471741\">\n",
      "<strong class=\"sa_text_strong\">기술력이 자산이 되지 못하는 나라 [기자의눈]</strong>\n",
      "</a>, <a class=\"sa_text_cmt _COMMENT_COUNT_LIST\" data-object-id=\"news011,0004471741\" data-ticket=\"news\" data-zero-allow=\"false\" href=\"https://n.news.naver.com/mnews/article/comment/011/0004471741\" style=\"display: none;\"></a>, <a class=\"sa_text_title _NLOG_IMPRESSION\" data-clk=\"airscont\" data-extra='{\"airs\":{\"model_version\":\"news_sec_v2.0\",\"session_id\":\"NmfAdrwrr7eL9kgd\"}}' data-gdid=\"880000FF_000000000000000005333061\" data-imp-url=\"https://n.news.naver.com/mnews/article/014/0005333061\" data-rank=\"20\" href=\"https://n.news.naver.com/mnews/article/014/0005333061\">\n",
      "<strong class=\"sa_text_strong\">‘갤S25’ MX사업부, 호실적 이끌어... 악재산적 2분기 ‘엣지’ 판매량 관건[삼성전자 '트럼프 변수' 긴장]</strong>\n",
      "</a>, <a class=\"sa_text_cmt _COMMENT_COUNT_LIST\" data-object-id=\"news014,0005333061\" data-ticket=\"news\" data-zero-allow=\"false\" href=\"https://n.news.naver.com/mnews/article/comment/014/0005333061\" style=\"display: none;\"></a>, <a class=\"sa_text_title _NLOG_IMPRESSION\" data-clk=\"airscont\" data-extra='{\"airs\":{\"model_version\":\"news_sec_v2.0\",\"session_id\":\"7xNqm1YNJHzkq0BQ\"}}' data-gdid=\"880000D6_000000000000000000922930\" data-imp-url=\"https://n.news.naver.com/mnews/article/031/0000922930\" data-rank=\"21\" href=\"https://n.news.naver.com/mnews/article/031/0000922930\">\n",
      "<strong class=\"sa_text_strong\">찜솥 더위·높은 습도 견디는 고효율 태양전지 나온다 [지금은 과학]</strong>\n",
      "</a>, <a class=\"sa_text_cmt _COMMENT_COUNT_LIST\" data-object-id=\"news031,0000922930\" data-ticket=\"news\" data-zero-allow=\"false\" href=\"https://n.news.naver.com/mnews/article/comment/031/0000922930\" style=\"display: none;\"></a>, <a class=\"sa_text_title _NLOG_IMPRESSION\" data-clk=\"airscont\" data-extra='{\"airs\":{\"model_version\":\"news_sec_v2.0\",\"session_id\":\"NmfAdrwrr7eL9kgd\"}}' data-gdid=\"880000A9_000000000000000003626869\" data-imp-url=\"https://n.news.naver.com/mnews/article/020/0003626869\" data-rank=\"22\" href=\"https://n.news.naver.com/mnews/article/020/0003626869\">\n",
      "<strong class=\"sa_text_strong\">GM “SDV 시대 준비 박차·슈퍼크루즈 20개 모델 이상 적용 완료”</strong>\n",
      "</a>, <a class=\"sa_text_cmt _COMMENT_COUNT_LIST\" data-object-id=\"news020,0003626869\" data-ticket=\"news\" data-zero-allow=\"false\" href=\"https://n.news.naver.com/mnews/article/comment/020/0003626869\" style=\"display: none;\"></a>, <a class=\"sa_text_title _NLOG_IMPRESSION\" data-clk=\"airscont\" data-extra='{\"airs\":{\"model_version\":\"news_sec_v2.0\",\"session_id\":\"l4AJMZfuGO9WwwDY\"}}' data-gdid=\"88127058_000000000000000001067701\" data-imp-url=\"https://n.news.naver.com/mnews/article/366/0001067701\" data-rank=\"23\" href=\"https://n.news.naver.com/mnews/article/366/0001067701\">\n",
      "<strong class=\"sa_text_strong\">2분짜리 영상도 뚝딱… 불붙은 아마존·오픈AI·구글 영상 AI 경쟁</strong>\n",
      "</a>, <a class=\"sa_text_cmt _COMMENT_COUNT_LIST\" data-object-id=\"news366,0001067701\" data-ticket=\"news\" data-zero-allow=\"false\" href=\"https://n.news.naver.com/mnews/article/comment/366/0001067701\" style=\"display: none;\"></a>, <a class=\"sa_text_title _NLOG_IMPRESSION\" data-clk=\"airscont\" data-extra='{\"airs\":{\"model_version\":\"news_sec_v2.0\",\"session_id\":\"NmfAdrwrr7eL9kgd\"}}' data-gdid=\"8800011E_000000000000000002369863\" data-imp-url=\"https://n.news.naver.com/mnews/article/092/0002369863\" data-rank=\"24\" href=\"https://n.news.naver.com/mnews/article/092/0002369863\">\n",
      "<strong class=\"sa_text_strong\">K푸드에 닥친 '관세 쇼크'…삼양·LG생건 등 더 걱정</strong>\n",
      "</a>, <a class=\"sa_text_cmt _COMMENT_COUNT_LIST\" data-object-id=\"news092,0002369863\" data-ticket=\"news\" data-zero-allow=\"false\" href=\"https://n.news.naver.com/mnews/article/comment/092/0002369863\" style=\"display: none;\"></a>, <a class=\"sa_text_title _NLOG_IMPRESSION\" data-clk=\"airscont\" data-extra='{\"airs\":{\"model_version\":\"news_sec_v2.0\",\"session_id\":\"NmfAdrwrr7eL9kgd\"}}' data-gdid=\"880000BC_000000000000000005472991\" data-imp-url=\"https://n.news.naver.com/mnews/article/009/0005472991\" data-rank=\"25\" href=\"https://n.news.naver.com/mnews/article/009/0005472991\">\n",
      "<strong class=\"sa_text_strong\">사흘간 비행기 5대 띄워 … 애플, 중국·인도産 아이폰 긴급수송</strong>\n",
      "</a>, <a class=\"sa_text_cmt _COMMENT_COUNT_LIST\" data-object-id=\"news009,0005472991\" data-ticket=\"news\" data-zero-allow=\"false\" href=\"https://n.news.naver.com/mnews/article/comment/009/0005472991\" style=\"display: none;\"></a>, <a class=\"sa_text_title _NLOG_IMPRESSION\" data-clk=\"airscont\" data-extra='{\"airs\":{\"model_version\":\"news_sec_v2.0\",\"session_id\":\"eU0va6XEsvgJaEMU\"}}' data-gdid=\"8817ca11_000000000000000000031792\" data-imp-url=\"https://n.news.naver.com/mnews/article/584/0000031792\" data-rank=\"26\" href=\"https://n.news.naver.com/mnews/article/584/0000031792\">\n",
      "<strong class=\"sa_text_strong\">DNA까지 침투…나노플라스틱 생성 원리 최초 규명</strong>\n",
      "</a>, <a class=\"sa_text_cmt _COMMENT_COUNT_LIST\" data-object-id=\"news584,0000031792\" data-ticket=\"news\" data-zero-allow=\"false\" href=\"https://n.news.naver.com/mnews/article/comment/584/0000031792\" style=\"display: none;\"></a>, <a class=\"sa_text_title _NLOG_IMPRESSION\" data-clk=\"airscont\" data-extra='{\"airs\":{\"model_version\":\"news_sec_v2.0\",\"session_id\":\"XECHJln43kv7GjoX\"}}' data-gdid=\"880000BC_000000000000000005472950\" data-imp-url=\"https://n.news.naver.com/mnews/article/009/0005472950\" data-rank=\"27\" href=\"https://n.news.naver.com/mnews/article/009/0005472950\">\n",
      "<strong class=\"sa_text_strong\">옷장 비췄더니 AI가 \"이 옷 입으세요\"</strong>\n",
      "</a>, <a class=\"sa_text_cmt _COMMENT_COUNT_LIST\" data-object-id=\"news009,0005472950\" data-ticket=\"news\" data-zero-allow=\"false\" href=\"https://n.news.naver.com/mnews/article/comment/009/0005472950\" style=\"display: none;\"></a>, <a class=\"sa_text_title _NLOG_IMPRESSION\" data-clk=\"airscont\" data-extra='{\"airs\":{\"model_version\":\"news_sec_v2.0\",\"session_id\":\"NmfAdrwrr7eL9kgd\"}}' data-gdid=\"880000D1_000000000000000003531813\" data-imp-url=\"https://n.news.naver.com/mnews/article/081/0003531813\" data-rank=\"28\" href=\"https://n.news.naver.com/mnews/article/081/0003531813\">\n",
      "<strong class=\"sa_text_strong\">美 스탠퍼드대 ‘AI 보고서’ 선정된 유일한 한국 모델은?</strong>\n",
      "</a>, <a class=\"sa_text_cmt _COMMENT_COUNT_LIST\" data-object-id=\"news081,0003531813\" data-ticket=\"news\" data-zero-allow=\"false\" href=\"https://n.news.naver.com/mnews/article/comment/081/0003531813\" style=\"display: none;\"></a>, <a class=\"sa_text_title _NLOG_IMPRESSION\" data-clk=\"airscont\" data-extra='{\"airs\":{\"model_version\":\"news_sec_v2.0\",\"session_id\":\"NmfAdrwrr7eL9kgd\"}}' data-gdid=\"88127058_000000000000000001067696\" data-imp-url=\"https://n.news.naver.com/mnews/article/366/0001067696\" data-rank=\"29\" href=\"https://n.news.naver.com/mnews/article/366/0001067696\">\n",
      "<strong class=\"sa_text_strong\">의협, “내년 의대 정원 3058명으로”…정부·국회에 대화 요구도</strong>\n",
      "</a>, <a class=\"sa_text_cmt _COMMENT_COUNT_LIST\" data-object-id=\"news366,0001067696\" data-ticket=\"news\" data-zero-allow=\"false\" href=\"https://n.news.naver.com/mnews/article/comment/366/0001067696\" style=\"display: none;\"></a>, <a class=\"sa_text_title _NLOG_IMPRESSION\" data-clk=\"airscont\" data-extra='{\"airs\":{\"model_version\":\"news_sec_v2.0\",\"session_id\":\"NmfAdrwrr7eL9kgd\"}}' data-gdid=\"8800011E_000000000000000002369861\" data-imp-url=\"https://n.news.naver.com/mnews/article/092/0002369861\" data-rank=\"30\" href=\"https://n.news.naver.com/mnews/article/092/0002369861\">\n",
      "<strong class=\"sa_text_strong\">BBQ, 법정관리 '위메프' 품을까...\"인수 의향서 제출\"</strong>\n",
      "</a>, <a class=\"sa_text_cmt _COMMENT_COUNT_LIST\" data-object-id=\"news092,0002369861\" data-ticket=\"news\" data-zero-allow=\"false\" href=\"https://n.news.naver.com/mnews/article/comment/092/0002369861\" style=\"display: none;\"></a>, <a class=\"sa_text_title _NLOG_IMPRESSION\" data-clk=\"airscont\" data-extra='{\"airs\":{\"model_version\":\"news_sec_v2.0\",\"session_id\":\"NmfAdrwrr7eL9kgd\"}}' data-gdid=\"880000AC_000000000000000002194290\" data-imp-url=\"https://n.news.naver.com/mnews/article/138/0002194290\" data-rank=\"31\" href=\"https://n.news.naver.com/mnews/article/138/0002194290\">\n",
      "<strong class=\"sa_text_strong\">키움증권 ‘전산 먹통’ 논란…  결국 다우기술로 불똥튀나</strong>\n",
      "</a>, <a class=\"sa_text_cmt _COMMENT_COUNT_LIST\" data-object-id=\"news138,0002194290\" data-ticket=\"news\" data-zero-allow=\"false\" href=\"https://n.news.naver.com/mnews/article/comment/138/0002194290\" style=\"display: none;\"></a>, <a class=\"sa_text_title _NLOG_IMPRESSION\" data-clk=\"airscont\" data-extra='{\"airs\":{\"model_version\":\"news_sec_v2.0\",\"session_id\":\"NmfAdrwrr7eL9kgd\"}}' data-gdid=\"880000BC_000000000000000005472938\" data-imp-url=\"https://n.news.naver.com/mnews/article/009/0005472938\" data-rank=\"32\" href=\"https://n.news.naver.com/mnews/article/009/0005472938\">\n",
      "<strong class=\"sa_text_strong\">삼성이 찜한 유럽 바이오벤처, 日 다이호가 인수</strong>\n",
      "</a>, <a class=\"sa_text_cmt _COMMENT_COUNT_LIST\" data-object-id=\"news009,0005472938\" data-ticket=\"news\" data-zero-allow=\"false\" href=\"https://n.news.naver.com/mnews/article/comment/009/0005472938\" style=\"display: none;\"></a>, <a class=\"sa_text_title _NLOG_IMPRESSION\" data-clk=\"airscont\" data-extra='{\"airs\":{\"model_version\":\"news_sec_v2.0\",\"session_id\":\"NmfAdrwrr7eL9kgd\"}}' data-gdid=\"880000BC_000000000000000005472935\" data-imp-url=\"https://n.news.naver.com/mnews/article/009/0005472935\" data-rank=\"33\" href=\"https://n.news.naver.com/mnews/article/009/0005472935\">\n",
      "<strong class=\"sa_text_strong\">\"기존 약물 새 쓰임새, AI로 찾아냅니다\"</strong>\n",
      "</a>, <a class=\"sa_text_cmt _COMMENT_COUNT_LIST\" data-object-id=\"news009,0005472935\" data-ticket=\"news\" data-zero-allow=\"false\" href=\"https://n.news.naver.com/mnews/article/comment/009/0005472935\" style=\"display: none;\"></a>, <a class=\"sa_text_title _NLOG_IMPRESSION\" data-clk=\"airscont\" data-extra='{\"airs\":{\"model_version\":\"news_sec_v2.0\",\"session_id\":\"NmfAdrwrr7eL9kgd\"}}' data-gdid=\"880000AD_000000000000000002946759\" data-imp-url=\"https://n.news.naver.com/mnews/article/029/0002946759\" data-rank=\"34\" href=\"https://n.news.naver.com/mnews/article/029/0002946759\">\n",
      "<strong class=\"sa_text_strong\">`한국계 우주비행사` 조니 김, 러 우주선 타고 국제우주정거장 `발사`</strong>\n",
      "</a>, <a class=\"sa_text_cmt _COMMENT_COUNT_LIST\" data-object-id=\"news029,0002946759\" data-ticket=\"news\" data-zero-allow=\"false\" href=\"https://n.news.naver.com/mnews/article/comment/029/0002946759\" style=\"display: none;\"></a>, <a class=\"sa_text_title _NLOG_IMPRESSION\" data-clk=\"airscont\" data-extra='{\"airs\":{\"model_version\":\"news_sec_v2.0\",\"session_id\":\"NmfAdrwrr7eL9kgd\"}}' data-gdid=\"880000AC_000000000000000002194287\" data-imp-url=\"https://n.news.naver.com/mnews/article/138/0002194287\" data-rank=\"35\" href=\"https://n.news.naver.com/mnews/article/138/0002194287\">\n",
      "<strong class=\"sa_text_strong\">[DD퇴근길] '갤럭시S25' 통했나?…삼성전자, 1Q 어닝서프라이즈</strong>\n",
      "</a>, <a class=\"sa_text_cmt _COMMENT_COUNT_LIST\" data-object-id=\"news138,0002194287\" data-ticket=\"news\" data-zero-allow=\"false\" href=\"https://n.news.naver.com/mnews/article/comment/138/0002194287\" style=\"display: none;\"></a>, <a class=\"sa_text_title _NLOG_IMPRESSION\" data-clk=\"airscont\" data-extra='{\"airs\":{\"model_version\":\"news_sec_v2.0\",\"session_id\":\"VpVHpusDq8L9wpch\"}}' data-gdid=\"880000AC_000000000000000002194286\" data-imp-url=\"https://n.news.naver.com/mnews/article/138/0002194286\" data-rank=\"36\" href=\"https://n.news.naver.com/mnews/article/138/0002194286\">\n",
      "<strong class=\"sa_text_strong\">악성문자 발송단계서 원천차단…'엑스레이' 서비스, 9일부터 시범 운영</strong>\n",
      "</a>, <a class=\"sa_text_cmt _COMMENT_COUNT_LIST\" data-object-id=\"news138,0002194286\" data-ticket=\"news\" data-zero-allow=\"false\" href=\"https://n.news.naver.com/mnews/article/comment/138/0002194286\" style=\"display: none;\"></a>]\n"
     ]
    }
   ],
   "source": [
    "# IT/과학 뉴스 \n",
    "req_param = {\n",
    "    'sid': 105\n",
    "}\n",
    "# \n",
    "url = 'https://news.naver.com/section/{sid}'.format(**req_param)\n",
    "print(url)\n",
    "\n",
    "# url2 = 'https://news.naver.com/section/105'\n",
    "\n",
    "# 요청 헤더 설정 : 브라우저 정보\n",
    "req_header = {\n",
    "    'user-agent': 'Mozilla/5.0 (Windows NT 10.0; Win64; x64) AppleWebKit/537.36 (KHTML, like Gecko) Chrome/135.0.0.0 Safari/537.36'\n",
    "}\n",
    "\n",
    "# requests 의 get() 함수 호출하기 \n",
    "res = requests.get(url, headers=req_header)\n",
    "print(res)\n",
    "print(type(res))\n",
    "print(res.status_code, res.ok)\n",
    "\n",
    "# 응답(response)이 OK 이면\n",
    "if res.ok:\n",
    "    # 응답 (response)에서 text 추출 - source 보기\n",
    "    html = res.text\n",
    "    # print(html)\n",
    "    \n",
    "    # BeautifulSoup 객체 생성\n",
    "    soup = BeautifulSoup(html, 'html.parser') # parsing\n",
    "    # print(soup)\n",
    "    \n",
    "    # CSS 선택자\n",
    "    # <div class='sa_text'><a></a></div>\n",
    "    print(len(soup.select(\"div.sa_text a[href*='mnews/article']\"))) # 모든 a태그를 선택\n",
    "    # print(soup.select(\"div.sa_text a[href*='mnews/article']\"))\n",
    "    a_tag_list = soup.select(\"div.sa_text a[href*='mnews/article']\")\n",
    "    print(type(a_tag_list)) # ResultSet\n",
    "    print(a_tag_list) # 모든 a태그 출력\n",
    "    for a_tag in a_tag_list:\n",
    "        print(type(a_tag))\n",
    "    # <a> 태그 리스트 순회하기    \n",
    "else:\n",
    "    # 응답(response)이 Error 이면 status code 출력\n",
    "    print(f'에러 코드 = {res.status_code}')\n",
    "\n"
   ]
  },
  {
   "cell_type": "markdown",
   "id": "45640860-a449-4285-90d7-5f300292b461",
   "metadata": {},
   "source": [
    "### 1.1 뉴스제목 추출하는 함수 선언하기"
   ]
  },
  {
   "cell_type": "code",
   "execution_count": 15,
   "id": "9f2e4ef8",
   "metadata": {},
   "outputs": [],
   "source": [
    "import requests\n",
    "from bs4 import BeautifulSoup\n",
    "\n",
    "section_dict = {100:'정치',101:'경제',102:'사회',103:'생활/문화',104:'세계',105:'IT/과학'}\n",
    "\n",
    "def print_news(sid, section):  #print_new(103,'생활/문화') \n",
    "    pass"
   ]
  },
  {
   "cell_type": "code",
   "execution_count": 16,
   "id": "858952c6",
   "metadata": {},
   "outputs": [],
   "source": [
    "print_news(103,section_dict[103])"
   ]
  },
  {
   "cell_type": "markdown",
   "id": "323196dc",
   "metadata": {},
   "source": [
    "### 2. Image 다운로드\n",
    "* referer 요청 헤더를 반드시 설정해야 한다."
   ]
  },
  {
   "cell_type": "code",
   "execution_count": 17,
   "id": "c72d6cb1",
   "metadata": {},
   "outputs": [],
   "source": [
    "import requests\n",
    "import os\n",
    "\n",
    "req_header = {\n",
    "    'referer':''\n",
    "}\n",
    "\n",
    "img_urls = [\n",
    "    'https://image-comic.pstatic.net/webtoon/798173/5/20220804112251_d97bd1e1b38f0cd022e4e3639d2926b3_IMAG01_1.jpg',\n",
    "    'https://image-comic.pstatic.net/webtoon/798173/5/20220804112251_d97bd1e1b38f0cd022e4e3639d2926b3_IMAG01_2.jpg',\n",
    "    'https://image-comic.pstatic.net/webtoon/798173/5/20220804112251_d97bd1e1b38f0cd022e4e3639d2926b3_IMAG01_3.jpg'\n",
    "]\n",
    "\n",
    "for img_url in img_urls:\n",
    "    pass\n",
    "    # requests 의 get(url, headers) 함수 호출하기 \n",
    "        \n",
    "        # binary 응답 데이터 가져오기\n",
    "        \n",
    "        # url에서 파일명만 추출하기\n",
    "        \n",
    "        # binday data를 file에 write하기\n"
   ]
  },
  {
   "cell_type": "markdown",
   "id": "e8b00a04",
   "metadata": {},
   "source": [
    "* 현재 요청된 페이지의 image 모두 다운로드 해보기"
   ]
  },
  {
   "cell_type": "code",
   "execution_count": null,
   "id": "b30f7bf5",
   "metadata": {},
   "outputs": [],
   "source": []
  },
  {
   "cell_type": "markdown",
   "id": "2ac9f5f9",
   "metadata": {},
   "source": [
    "### 3. 파일 업로드 하기\n",
    "* http://httpbin.org/post 업로드 요청을 할 수 있는 url"
   ]
  },
  {
   "cell_type": "code",
   "execution_count": 18,
   "id": "04da4790",
   "metadata": {},
   "outputs": [],
   "source": [
    "import requests\n",
    "\n",
    "upload_files = {\n",
    "    \n",
    "}\n",
    "#print(upload_files)\n",
    "\n",
    "url = 'http://httpbin.org/post'\n",
    "# file 업로드 하려면 requests의 post 함수에 files 속성을 사용합니다.\n",
    "\n"
   ]
  },
  {
   "cell_type": "markdown",
   "id": "7ad65f12",
   "metadata": {},
   "source": [
    "### 4. 캡챠(이미지) API 호출하기\n",
    "* urllib 사용\n",
    "* 1. 캡차 키 발급 요청\n",
    "  2. 캡차 이미지 요청\n",
    "  3. 사용자 입력값 검증 요청"
   ]
  },
  {
   "cell_type": "code",
   "execution_count": 19,
   "id": "bc4ae360-e772-4873-8642-d3494edd34e1",
   "metadata": {},
   "outputs": [],
   "source": [
    "# 캡차 키 발급 요청\n"
   ]
  },
  {
   "cell_type": "code",
   "execution_count": 20,
   "id": "7b95b6a0-c218-4792-82a6-da4d80872071",
   "metadata": {},
   "outputs": [],
   "source": [
    "# 캡차 이미지 요청\n"
   ]
  },
  {
   "cell_type": "code",
   "execution_count": 21,
   "id": "a79076af-2cd0-4de2-8301-316b9130c55e",
   "metadata": {},
   "outputs": [],
   "source": [
    "#  사용자 입력값 검증 요청\n",
    "\n"
   ]
  },
  {
   "cell_type": "markdown",
   "id": "b7d984a6",
   "metadata": {},
   "source": [
    "* requests를 사용하는 코드로 변경하기\n",
    "* [requests docs](https://requests.readthedocs.io/en/latest/user/quickstart/)"
   ]
  },
  {
   "cell_type": "code",
   "execution_count": 22,
   "id": "727b427b",
   "metadata": {
    "scrolled": true
   },
   "outputs": [],
   "source": [
    "# 사용자 입력값 검증 요청\n",
    "\n"
   ]
  },
  {
   "cell_type": "markdown",
   "id": "d5e1179a",
   "metadata": {},
   "source": [
    "### 5. 블로그 검색하기"
   ]
  },
  {
   "cell_type": "code",
   "execution_count": 23,
   "id": "877d0c7f",
   "metadata": {},
   "outputs": [],
   "source": [
    "import requests\n",
    "import pprint\n",
    "\n",
    "headers = {\n",
    "    'X-Naver-Client-Id': '',\n",
    "    'X-Naver-Client-Secret': '',\n",
    "}\n",
    "\n",
    "payload = {\n",
    "    'query': '파이썬',\n",
    "    'display': 100,\n",
    "    'sort': 'sim'\n",
    "}\n",
    "\n",
    "url = 'https://openapi.naver.com/v1/search/blog.json'\n",
    "\n",
    "\n",
    "# requests get(url, params, headers) 요청 \n",
    "\n",
    "# json() 함수로 응답 결과 가져오오기\n",
    "# 'title' , 'bloggername' , 'description' , 'bloggerlink' , 'link'\n",
    "\n",
    "# 'data/nhnblog.txt' 파일 생성하기\n"
   ]
  }
 ],
 "metadata": {
  "kernelspec": {
   "display_name": "base",
   "language": "python",
   "name": "python3"
  },
  "language_info": {
   "codemirror_mode": {
    "name": "ipython",
    "version": 3
   },
   "file_extension": ".py",
   "mimetype": "text/x-python",
   "name": "python",
   "nbconvert_exporter": "python",
   "pygments_lexer": "ipython3",
   "version": "3.12.7"
  }
 },
 "nbformat": 4,
 "nbformat_minor": 5
}
