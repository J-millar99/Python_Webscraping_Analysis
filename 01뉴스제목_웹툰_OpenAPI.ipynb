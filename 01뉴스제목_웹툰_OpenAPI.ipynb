{
 "cells": [
  {
   "cell_type": "markdown",
   "id": "eb0bfa44",
   "metadata": {},
   "source": [
    "## 1. 뉴스제목 가져오기\n",
    "* user-agent 요청헤더를 반드시 설정해야 한다."
   ]
  },
  {
   "cell_type": "code",
   "execution_count": 10,
   "id": "f0d27781",
   "metadata": {},
   "outputs": [
    {
     "name": "stdout",
     "output_type": "stream",
     "text": [
      "Name: requests\n",
      "Version: 2.32.3\n",
      "Summary: Python HTTP for Humans.\n",
      "Home-page: https://requests.readthedocs.io\n",
      "Author: Kenneth Reitz\n",
      "Author-email: me@kennethreitz.org\n",
      "License: Apache-2.0\n",
      "Location: C:\\Users\\user\\anaconda3\\Lib\\site-packages\n",
      "Requires: certifi, charset-normalizer, idna, urllib3\n",
      "Required-by: anaconda-catalogs, anaconda-client, anaconda-cloud-auth, anaconda-project, conda, conda-build, conda-repo-cli, conda_package_streaming, cookiecutter, datashader, jupyterlab_server, panel, requests-file, requests-toolbelt, Sphinx, streamlit, tldextract\n"
     ]
    }
   ],
   "source": [
    "# requests 라이브러리 설치여부 확인\n",
    "!pip show requests"
   ]
  },
  {
   "cell_type": "code",
   "execution_count": 11,
   "id": "f7798ea8",
   "metadata": {},
   "outputs": [
    {
     "name": "stdout",
     "output_type": "stream",
     "text": [
      "Name: beautifulsoup4\n",
      "Version: 4.12.3\n",
      "Summary: Screen-scraping library\n",
      "Home-page: https://www.crummy.com/software/BeautifulSoup/bs4/\n",
      "Author: \n",
      "Author-email: Leonard Richardson <leonardr@segfault.org>\n",
      "License: MIT License\n",
      "Location: C:\\Users\\user\\anaconda3\\Lib\\site-packages\n",
      "Requires: soupsieve\n",
      "Required-by: conda-build, nbconvert\n"
     ]
    }
   ],
   "source": [
    "# beautifulsoup4 라이브러리 설치여부 확인\n",
    "!pip show beautifulsoup4"
   ]
  },
  {
   "cell_type": "code",
   "execution_count": 12,
   "id": "bf80a429",
   "metadata": {},
   "outputs": [],
   "source": [
    "# reqeusts, bs4 import\n",
    "import requests, bs4\n",
    "# BeautifulSoup 클래스 import\n",
    "from bs4 import BeautifulSoup"
   ]
  },
  {
   "cell_type": "code",
   "execution_count": 13,
   "id": "9788d6ac",
   "metadata": {},
   "outputs": [
    {
     "name": "stdout",
     "output_type": "stream",
     "text": [
      "request 버전 2.32.3\n",
      "beautifulsoup4 버전 4.12.3\n"
     ]
    }
   ],
   "source": [
    "# requests, bs4 버전 확인하기\n",
    "print(f'request 버전 {requests.__version__}')\n",
    "print(f'beautifulsoup4 버전 {bs4.__version__}')"
   ]
  },
  {
   "cell_type": "markdown",
   "id": "ccb91def-cde3-4aeb-b0e5-2e7233500333",
   "metadata": {},
   "source": [
    "### 1. 뉴스 제목 추출하기"
   ]
  },
  {
   "cell_type": "code",
   "execution_count": null,
   "id": "94c12fd6",
   "metadata": {},
   "outputs": [],
   "source": [
    "# IT/과학 뉴스\n",
    "req_param = {\"sid\": 105}\n",
    "#\n",
    "url = \"https://news.naver.com/section/{sid}\".format(**req_param)\n",
    "print(url)\n",
    "\n",
    "# url2 = 'https://news.naver.com/section/105'\n",
    "\n",
    "# 요청 헤더 설정 : 브라우저 정보 (사람처럼 보이게 하려고 설정하는 것임)\n",
    "req_header = {\n",
    "    \"user-agent\": \"Mozilla/5.0 (Windows NT 10.0; Win64; x64) AppleWebKit/537.36 (KHTML, like Gecko) Chrome/135.0.0.0 Safari/537.36\"\n",
    "}\n",
    "\n",
    "# requests 의 get() 함수 호출하기\n",
    "res = requests.get(url, headers=req_header)\n",
    "print(res)\n",
    "print(type(res))\n",
    "print(res.status_code, res.ok)\n",
    "\n",
    "# 응답(response)이 OK 이면\n",
    "if res.ok:\n",
    "    # 응답 (response)에서 text 추출 - source 보기\n",
    "    html = res.text\n",
    "    # print(html)\n",
    "\n",
    "    # BeautifulSoup 객체 생성\n",
    "    soup = BeautifulSoup(html, \"html.parser\")  # parsing\n",
    "    # print(soup)\n",
    "\n",
    "    # CSS 선택자\n",
    "    # <div class='sa_text'><a></a></div>\n",
    "    print(len(soup.select(\"div.sa_text a[href*='mnews/article']\")))  # 모든 a태그를 선택\n",
    "    # print(soup.select(\"div.sa_text a[href*='mnews/article']\"))\n",
    "    a_tag_list = soup.select(\"div.sa_text a[href*='mnews/article']\")\n",
    "    print(\n",
    "        type(a_tag_list)\n",
    "    )  # [<a href=\"https://\">뉴스제목</a>] : ResultSet객체, <a></a> : Tag 객체\n",
    "    # print(a_tag_list) # 모든 a태그 출력\n",
    "    for a_tag in a_tag_list:\n",
    "        # print(type(a_tag)) # bs4.element.Tag\n",
    "        title = a_tag.text.strip()\n",
    "        # href의 속성의 값을 가져오기\n",
    "        link = a_tag[\"href\"]\n",
    "        print(title, link)\n",
    "    # <a> 태그 리스트 순회하기\n",
    "else:\n",
    "    # 응답(response)이 Error 이면 status code 출력\n",
    "    print(f\"에러 코드 = {res.status_code}\")"
   ]
  },
  {
   "cell_type": "markdown",
   "id": "45640860-a449-4285-90d7-5f300292b461",
   "metadata": {},
   "source": [
    "### 1.1 뉴스제목 추출하는 함수 선언하기"
   ]
  },
  {
   "cell_type": "code",
   "execution_count": null,
   "id": "9f2e4ef8",
   "metadata": {},
   "outputs": [],
   "source": [
    "import requests\n",
    "from bs4 import BeautifulSoup\n",
    "\n",
    "section_dict = {\n",
    "    100: \"정치\",\n",
    "    101: \"경제\",\n",
    "    102: \"사회\",\n",
    "    103: \"생활/문화\",\n",
    "    104: \"세계\",\n",
    "    105: \"IT/과학\",\n",
    "}\n",
    "\n",
    "\n",
    "def print_news(sid):  # print_new(103,'생활/문화')\n",
    "    section = section_dict[sid]\n",
    "    req_param = {\"sid\": sid}\n",
    "    url = \"https://news.naver.com/section/{sid}\".format(**req_param)\n",
    "    print(f\"=====> {url} {section} 뉴스 <=====\")\n",
    "    \n",
    "    # 요청 헤더 설정 : 브라우저 정보 (사람처럼 보이게 하려고 설정하는 것임)\n",
    "    req_header = {\n",
    "        \"user-agent\": \"Mozilla/5.0 (Windows NT 10.0; Win64; x64) AppleWebKit/537.36 (KHTML, like Gecko) Chrome/135.0.0.0 Safari/537.36\"\n",
    "    }\n",
    "\n",
    "\n",
    "    res = requests.get(url, headers=req_header)\n",
    "    print(res)\n",
    "    print(type(res))\n",
    "    print(res.status_code, res.ok)\n",
    "    \n",
    "\n",
    "    if res.ok:\n",
    "        html = res.text\n",
    "        soup = BeautifulSoup(html, \"html.parser\")\n",
    "\n",
    "        print(len(soup.select(\"div.sa_text a[href*='mnews/article']\")))\n",
    "        a_tag_list = soup.select(\"div.sa_text a[href*='mnews/article']\")\n",
    "        print(type(a_tag_list))\n",
    "\n",
    "        for a_tag in a_tag_list:\n",
    "            title = a_tag.text.strip()\n",
    "            link = a_tag[\"href\"]\n",
    "            print(title, link)\n",
    "            \n",
    "    else:\n",
    "        print(f\"에러 코드 = {res.status_code}\")\n",
    "\n",
    "print_news(103)"
   ]
  },
  {
   "cell_type": "markdown",
   "id": "323196dc",
   "metadata": {},
   "source": [
    "### 2. Image 다운로드\n",
    "* referer 요청 헤더를 반드시 설정해야 한다."
   ]
  },
  {
   "cell_type": "code",
   "execution_count": null,
   "id": "c72d6cb1",
   "metadata": {},
   "outputs": [
    {
     "name": "stdout",
     "output_type": "stream",
     "text": [
      "Writing to 20220804112251_d97bd1e1b38f0cd022e4e3639d2926b3_IMAG01_1.jpg(299,319 Bytes) \n",
      "Writing to 20220804112251_d97bd1e1b38f0cd022e4e3639d2926b3_IMAG01_2.jpg(163,333 Bytes) \n",
      "Writing to 20220804112251_d97bd1e1b38f0cd022e4e3639d2926b3_IMAG01_3.jpg(182,530 Bytes) \n"
     ]
    }
   ],
   "source": [
    "import requests\n",
    "import os\n",
    "\n",
    "req_header = {\n",
    "    'referer': 'https://comic.naver.com/webtoon/detail?titleId=798173&no=5&amp;weekday=thu'\n",
    "}\n",
    "\n",
    "img_urls = [\n",
    "    'https://image-comic.pstatic.net/webtoon/798173/5/20220804112251_d97bd1e1b38f0cd022e4e3639d2926b3_IMAG01_1.jpg',\n",
    "    'https://image-comic.pstatic.net/webtoon/798173/5/20220804112251_d97bd1e1b38f0cd022e4e3639d2926b3_IMAG01_2.jpg',\n",
    "    'https://image-comic.pstatic.net/webtoon/798173/5/20220804112251_d97bd1e1b38f0cd022e4e3639d2926b3_IMAG01_3.jpg'\n",
    "]\n",
    "\n",
    "for img_url in img_urls:\n",
    "    # requests 의 get(url, headers) 함수 호출하기 \n",
    "    res = requests.get(img_url, headers=req_header) # request_header가 없으면 접근 권한이 거부된다. (사람이 접속한 것이 아니기 때문)\n",
    "    if res.ok:        \n",
    "        # binary 응답 데이터 가져오기\n",
    "        img_data = res.content\n",
    "        \n",
    "        # url에서 파일명만 추출하기\n",
    "        file_name = os.path.basename(img_url)\n",
    "        \n",
    "        # binday data를 file에 write하기\n",
    "        with open(file_name, 'wb') as file:\n",
    "            print(f'Writing to {file_name}({len(img_data):,} bytes) ')\n",
    "            file.write(img_data)\n",
    "            \n",
    "        "
   ]
  },
  {
   "cell_type": "markdown",
   "id": "e8b00a04",
   "metadata": {},
   "source": [
    "* 현재 요청된 페이지의 image 모두 다운로드 해보기"
   ]
  },
  {
   "cell_type": "code",
   "execution_count": null,
   "id": "b30f7bf5",
   "metadata": {},
   "outputs": [
    {
     "name": "stdout",
     "output_type": "stream",
     "text": [
      "56\n",
      "470\n",
      "470\n",
      "<class 'bs4.element.Tag'> <img alt=\"comic content\" id=\"content_image_0\" src=\"https://image-comic.pstatic.net/webtoon/650305/1/20150320173852_9efc92a86d9909387d25d8d2e994803f_IMAG01_1.jpg\"/>\n",
      "<class 'bs4.element.Tag'> <img alt=\"comic content\" id=\"content_image_1\" src=\"https://image-comic.pstatic.net/webtoon/650305/1/20150320173852_9efc92a86d9909387d25d8d2e994803f_IMAG01_2.jpg\"/>\n",
      "<class 'bs4.element.Tag'> <img alt=\"comic content\" id=\"content_image_2\" src=\"https://image-comic.pstatic.net/webtoon/650305/1/20150320173852_9efc92a86d9909387d25d8d2e994803f_IMAG01_3.jpg\"/>\n",
      "<class 'bs4.element.Tag'> <img alt=\"comic content\" id=\"content_image_3\" src=\"https://image-comic.pstatic.net/webtoon/650305/1/20150320173852_9efc92a86d9909387d25d8d2e994803f_IMAG01_4.jpg\"/>\n",
      "<class 'bs4.element.Tag'> <img alt=\"comic content\" id=\"content_image_4\" src=\"https://image-comic.pstatic.net/webtoon/650305/1/20150320173852_9efc92a86d9909387d25d8d2e994803f_IMAG01_5.jpg\"/>\n",
      "<class 'bs4.element.Tag'> <img alt=\"comic content\" id=\"content_image_5\" src=\"https://image-comic.pstatic.net/webtoon/650305/1/20150320173852_9efc92a86d9909387d25d8d2e994803f_IMAG01_6.jpg\"/>\n",
      "<class 'bs4.element.Tag'> <img alt=\"comic content\" id=\"content_image_6\" src=\"https://image-comic.pstatic.net/webtoon/650305/1/20150320173852_9efc92a86d9909387d25d8d2e994803f_IMAG01_7.jpg\"/>\n",
      "<class 'bs4.element.Tag'> <img alt=\"comic content\" id=\"content_image_7\" src=\"https://image-comic.pstatic.net/webtoon/650305/1/20150320173852_9efc92a86d9909387d25d8d2e994803f_IMAG01_8.jpg\"/>\n",
      "<class 'bs4.element.Tag'> <img alt=\"comic content\" id=\"content_image_8\" src=\"https://image-comic.pstatic.net/webtoon/650305/1/20150320173852_9efc92a86d9909387d25d8d2e994803f_IMAG01_9.jpg\"/>\n",
      "<class 'bs4.element.Tag'> <img alt=\"comic content\" id=\"content_image_9\" src=\"https://image-comic.pstatic.net/webtoon/650305/1/20150320173852_9efc92a86d9909387d25d8d2e994803f_IMAG01_10.jpg\"/>\n",
      "<class 'bs4.element.Tag'> <img alt=\"comic content\" id=\"content_image_10\" src=\"https://image-comic.pstatic.net/webtoon/650305/1/20150320173852_9efc92a86d9909387d25d8d2e994803f_IMAG01_11.jpg\"/>\n",
      "<class 'bs4.element.Tag'> <img alt=\"comic content\" id=\"content_image_11\" src=\"https://image-comic.pstatic.net/webtoon/650305/1/20150320173852_9efc92a86d9909387d25d8d2e994803f_IMAG01_12.jpg\"/>\n",
      "<class 'bs4.element.Tag'> <img alt=\"comic content\" id=\"content_image_12\" src=\"https://image-comic.pstatic.net/webtoon/650305/1/20150320173852_9efc92a86d9909387d25d8d2e994803f_IMAG01_13.jpg\"/>\n",
      "<class 'bs4.element.Tag'> <img alt=\"comic content\" id=\"content_image_13\" src=\"https://image-comic.pstatic.net/webtoon/650305/1/20150320173852_9efc92a86d9909387d25d8d2e994803f_IMAG01_14.jpg\"/>\n",
      "<class 'bs4.element.Tag'> <img alt=\"comic content\" id=\"content_image_14\" src=\"https://image-comic.pstatic.net/webtoon/650305/1/20150320173852_9efc92a86d9909387d25d8d2e994803f_IMAG01_15.jpg\"/>\n",
      "<class 'bs4.element.Tag'> <img alt=\"comic content\" id=\"content_image_15\" src=\"https://image-comic.pstatic.net/webtoon/650305/1/20150320173852_9efc92a86d9909387d25d8d2e994803f_IMAG01_16.jpg\"/>\n",
      "<class 'bs4.element.Tag'> <img alt=\"comic content\" id=\"content_image_16\" src=\"https://image-comic.pstatic.net/webtoon/650305/1/20150320173852_9efc92a86d9909387d25d8d2e994803f_IMAG01_17.jpg\"/>\n",
      "<class 'bs4.element.Tag'> <img alt=\"comic content\" id=\"content_image_17\" src=\"https://image-comic.pstatic.net/webtoon/650305/1/20150320173852_9efc92a86d9909387d25d8d2e994803f_IMAG01_18.jpg\"/>\n",
      "<class 'bs4.element.Tag'> <img alt=\"comic content\" id=\"content_image_18\" src=\"https://image-comic.pstatic.net/webtoon/650305/1/20150320173852_9efc92a86d9909387d25d8d2e994803f_IMAG01_19.jpg\"/>\n",
      "<class 'bs4.element.Tag'> <img alt=\"comic content\" id=\"content_image_19\" src=\"https://image-comic.pstatic.net/webtoon/650305/1/20150320173852_9efc92a86d9909387d25d8d2e994803f_IMAG01_20.jpg\"/>\n",
      "<class 'bs4.element.Tag'> <img alt=\"comic content\" id=\"content_image_20\" src=\"https://image-comic.pstatic.net/webtoon/650305/1/20150320173852_9efc92a86d9909387d25d8d2e994803f_IMAG01_21.jpg\"/>\n",
      "<class 'bs4.element.Tag'> <img alt=\"comic content\" id=\"content_image_21\" src=\"https://image-comic.pstatic.net/webtoon/650305/1/20150320173852_9efc92a86d9909387d25d8d2e994803f_IMAG01_22.jpg\"/>\n",
      "<class 'bs4.element.Tag'> <img alt=\"comic content\" id=\"content_image_22\" src=\"https://image-comic.pstatic.net/webtoon/650305/1/20150320173852_9efc92a86d9909387d25d8d2e994803f_IMAG01_23.jpg\"/>\n",
      "<class 'bs4.element.Tag'> <img alt=\"comic content\" id=\"content_image_23\" src=\"https://image-comic.pstatic.net/webtoon/650305/1/20150320173852_9efc92a86d9909387d25d8d2e994803f_IMAG01_24.jpg\"/>\n",
      "<class 'bs4.element.Tag'> <img alt=\"comic content\" id=\"content_image_24\" src=\"https://image-comic.pstatic.net/webtoon/650305/1/20150320173852_9efc92a86d9909387d25d8d2e994803f_IMAG01_25.jpg\"/>\n",
      "<class 'bs4.element.Tag'> <img alt=\"comic content\" id=\"content_image_25\" src=\"https://image-comic.pstatic.net/webtoon/650305/1/20150320173852_9efc92a86d9909387d25d8d2e994803f_IMAG01_26.jpg\"/>\n",
      "<class 'bs4.element.Tag'> <img alt=\"comic content\" id=\"content_image_26\" src=\"https://image-comic.pstatic.net/webtoon/650305/1/20150320173852_9efc92a86d9909387d25d8d2e994803f_IMAG01_27.jpg\"/>\n",
      "<class 'bs4.element.Tag'> <img alt=\"comic content\" id=\"content_image_27\" src=\"https://image-comic.pstatic.net/webtoon/650305/1/20150320173852_9efc92a86d9909387d25d8d2e994803f_IMAG01_28.jpg\"/>\n",
      "<class 'bs4.element.Tag'> <img alt=\"comic content\" id=\"content_image_28\" src=\"https://image-comic.pstatic.net/webtoon/650305/1/20150320173852_9efc92a86d9909387d25d8d2e994803f_IMAG01_29.jpg\"/>\n",
      "<class 'bs4.element.Tag'> <img alt=\"comic content\" id=\"content_image_29\" src=\"https://image-comic.pstatic.net/webtoon/650305/1/20150320173852_9efc92a86d9909387d25d8d2e994803f_IMAG01_30.jpg\"/>\n",
      "<class 'bs4.element.Tag'> <img alt=\"comic content\" id=\"content_image_30\" src=\"https://image-comic.pstatic.net/webtoon/650305/1/20150320173852_9efc92a86d9909387d25d8d2e994803f_IMAG01_31.jpg\"/>\n",
      "<class 'bs4.element.Tag'> <img alt=\"comic content\" id=\"content_image_31\" src=\"https://image-comic.pstatic.net/webtoon/650305/1/20150320173852_9efc92a86d9909387d25d8d2e994803f_IMAG01_32.jpg\"/>\n",
      "<class 'bs4.element.Tag'> <img alt=\"comic content\" id=\"content_image_32\" src=\"https://image-comic.pstatic.net/webtoon/650305/1/20150320173852_9efc92a86d9909387d25d8d2e994803f_IMAG01_33.jpg\"/>\n",
      "<class 'bs4.element.Tag'> <img alt=\"comic content\" id=\"content_image_33\" src=\"https://image-comic.pstatic.net/webtoon/650305/1/20150320173852_9efc92a86d9909387d25d8d2e994803f_IMAG01_34.jpg\"/>\n",
      "<class 'bs4.element.Tag'> <img alt=\"comic content\" id=\"content_image_34\" src=\"https://image-comic.pstatic.net/webtoon/650305/1/20150320173852_9efc92a86d9909387d25d8d2e994803f_IMAG01_35.jpg\"/>\n",
      "<class 'bs4.element.Tag'> <img alt=\"comic content\" id=\"content_image_35\" src=\"https://image-comic.pstatic.net/webtoon/650305/1/20150320173852_9efc92a86d9909387d25d8d2e994803f_IMAG01_36.jpg\"/>\n",
      "<class 'bs4.element.Tag'> <img alt=\"comic content\" id=\"content_image_36\" src=\"https://image-comic.pstatic.net/webtoon/650305/1/20150320173852_9efc92a86d9909387d25d8d2e994803f_IMAG01_37.jpg\"/>\n",
      "<class 'bs4.element.Tag'> <img alt=\"comic content\" id=\"content_image_37\" src=\"https://image-comic.pstatic.net/webtoon/650305/1/20150320173852_9efc92a86d9909387d25d8d2e994803f_IMAG01_38.jpg\"/>\n",
      "<class 'bs4.element.Tag'> <img alt=\"comic content\" id=\"content_image_38\" src=\"https://image-comic.pstatic.net/webtoon/650305/1/20150320173852_9efc92a86d9909387d25d8d2e994803f_IMAG01_39.jpg\"/>\n",
      "<class 'bs4.element.Tag'> <img alt=\"comic content\" id=\"content_image_39\" src=\"https://image-comic.pstatic.net/webtoon/650305/1/20150320173852_9efc92a86d9909387d25d8d2e994803f_IMAG01_40.jpg\"/>\n",
      "<class 'bs4.element.Tag'> <img alt=\"comic content\" id=\"content_image_40\" src=\"https://image-comic.pstatic.net/webtoon/650305/1/20150320173852_9efc92a86d9909387d25d8d2e994803f_IMAG01_41.jpg\"/>\n",
      "<class 'bs4.element.Tag'> <img alt=\"comic content\" id=\"content_image_41\" src=\"https://image-comic.pstatic.net/webtoon/650305/1/20150320173852_9efc92a86d9909387d25d8d2e994803f_IMAG01_42.jpg\"/>\n",
      "<class 'bs4.element.Tag'> <img alt=\"comic content\" id=\"content_image_42\" src=\"https://image-comic.pstatic.net/webtoon/650305/1/20150320173852_9efc92a86d9909387d25d8d2e994803f_IMAG01_43.jpg\"/>\n",
      "<class 'bs4.element.Tag'> <img alt=\"comic content\" id=\"content_image_43\" src=\"https://image-comic.pstatic.net/webtoon/650305/1/20150320173852_9efc92a86d9909387d25d8d2e994803f_IMAG01_44.jpg\"/>\n",
      "<class 'bs4.element.Tag'> <img alt=\"comic content\" id=\"content_image_44\" src=\"https://image-comic.pstatic.net/webtoon/650305/1/20150320173852_9efc92a86d9909387d25d8d2e994803f_IMAG01_45.jpg\"/>\n",
      "<class 'bs4.element.Tag'> <img alt=\"comic content\" id=\"content_image_45\" src=\"https://image-comic.pstatic.net/webtoon/650305/1/20150320173852_9efc92a86d9909387d25d8d2e994803f_IMAG01_46.jpg\"/>\n",
      "<class 'bs4.element.Tag'> <img alt=\"comic content\" id=\"content_image_46\" src=\"https://image-comic.pstatic.net/webtoon/650305/1/20150320173852_9efc92a86d9909387d25d8d2e994803f_IMAG01_47.jpg\"/>\n",
      "<class 'bs4.element.Tag'> <img alt=\"comic content\" id=\"content_image_47\" src=\"https://image-comic.pstatic.net/webtoon/650305/1/20150320173852_9efc92a86d9909387d25d8d2e994803f_IMAG01_48.jpg\"/>\n",
      "<class 'bs4.element.Tag'> <img alt=\"comic content\" id=\"content_image_48\" src=\"https://image-comic.pstatic.net/webtoon/650305/1/20150320173852_9efc92a86d9909387d25d8d2e994803f_IMAG01_49.jpg\"/>\n",
      "<class 'bs4.element.Tag'> <img alt=\"comic content\" id=\"content_image_49\" src=\"https://image-comic.pstatic.net/webtoon/650305/1/20150320173852_9efc92a86d9909387d25d8d2e994803f_IMAG01_50.jpg\"/>\n",
      "<class 'bs4.element.Tag'> <img alt=\"comic content\" id=\"content_image_50\" src=\"https://image-comic.pstatic.net/webtoon/650305/1/20150320173852_9efc92a86d9909387d25d8d2e994803f_IMAG01_51.jpg\"/>\n",
      "<class 'bs4.element.Tag'> <img alt=\"comic content\" id=\"content_image_51\" src=\"https://image-comic.pstatic.net/webtoon/650305/1/20150320173852_9efc92a86d9909387d25d8d2e994803f_IMAG01_52.jpg\"/>\n",
      "<class 'bs4.element.Tag'> <img alt=\"comic content\" id=\"content_image_52\" src=\"https://image-comic.pstatic.net/webtoon/650305/1/20150320173852_9efc92a86d9909387d25d8d2e994803f_IMAG01_53.jpg\"/>\n",
      "<class 'bs4.element.Tag'> <img alt=\"comic content\" id=\"content_image_53\" src=\"https://image-comic.pstatic.net/webtoon/650305/1/20150320173852_9efc92a86d9909387d25d8d2e994803f_IMAG01_54.jpg\"/>\n",
      "<class 'bs4.element.Tag'> <img alt=\"comic content\" id=\"content_image_54\" src=\"https://image-comic.pstatic.net/webtoon/650305/1/20150320173852_9efc92a86d9909387d25d8d2e994803f_IMAG01_55.jpg\"/>\n",
      "<class 'bs4.element.Tag'> <img alt=\"comic content\" id=\"content_image_55\" src=\"https://image-comic.pstatic.net/webtoon/650305/1/20150320173852_9efc92a86d9909387d25d8d2e994803f_IMAG01_56.jpg\"/>\n"
     ]
    }
   ],
   "source": [
    "import requests\n",
    "from bs4 import BeautifulSoup\n",
    "\n",
    "url = 'https://comic.naver.com/webtoon/detail?titleId=650305&no=1&week=finish'\n",
    "\n",
    "req_header = {\n",
    "    'referer' : url\n",
    "}\n",
    "\n",
    "res = requests.get(url)\n",
    "if res.ok:\n",
    "    # jpg 파일 절대경로 url을 찾기\n",
    "    soup = BeautifulSoup(res.text, 'html.parser')\n",
    "    print(len(soup.select(\"img[src*='IMAG01']\"))) # *는 부분적 일치\n",
    "    print(len(soup.select(\"img[src$='.jpg']\"))) # $는 ~로 끝나는\n",
    "    print(len(soup.select(\"img[src^='https://image-comic']\"))) # ^는 ~로 시작하는\n",
    "    img_tags = soup.select(\"img[src*='IMAG01']\")\n",
    "    for img_tag in img_tags:\n",
    "        print(type(img_tag), img_tag.name, img_tag)\n",
    "        img_src = img_tag['src']\n",
    "        print(img_src)\n",
    "    \n",
    "else:\n",
    "    print(f\"Error Code = {res.status_code}\")"
   ]
  },
  {
   "cell_type": "markdown",
   "id": "2ac9f5f9",
   "metadata": {},
   "source": [
    "### 3. 파일 업로드 하기\n",
    "* http://httpbin.org/post 업로드 요청을 할 수 있는 url"
   ]
  },
  {
   "cell_type": "code",
   "execution_count": 18,
   "id": "04da4790",
   "metadata": {},
   "outputs": [],
   "source": [
    "import requests\n",
    "\n",
    "upload_files = {\n",
    "    \n",
    "}\n",
    "#print(upload_files)\n",
    "\n",
    "url = 'http://httpbin.org/post'\n",
    "# file 업로드 하려면 requests의 post 함수에 files 속성을 사용합니다.\n",
    "\n"
   ]
  },
  {
   "cell_type": "markdown",
   "id": "7ad65f12",
   "metadata": {},
   "source": [
    "### 4. 캡챠(이미지) API 호출하기\n",
    "* urllib 사용\n",
    "* 1. 캡차 키 발급 요청\n",
    "  2. 캡차 이미지 요청\n",
    "  3. 사용자 입력값 검증 요청"
   ]
  },
  {
   "cell_type": "code",
   "execution_count": 19,
   "id": "bc4ae360-e772-4873-8642-d3494edd34e1",
   "metadata": {},
   "outputs": [],
   "source": [
    "# 캡차 키 발급 요청\n"
   ]
  },
  {
   "cell_type": "code",
   "execution_count": 20,
   "id": "7b95b6a0-c218-4792-82a6-da4d80872071",
   "metadata": {},
   "outputs": [],
   "source": [
    "# 캡차 이미지 요청\n"
   ]
  },
  {
   "cell_type": "code",
   "execution_count": 21,
   "id": "a79076af-2cd0-4de2-8301-316b9130c55e",
   "metadata": {},
   "outputs": [],
   "source": [
    "#  사용자 입력값 검증 요청\n",
    "\n"
   ]
  },
  {
   "cell_type": "markdown",
   "id": "b7d984a6",
   "metadata": {},
   "source": [
    "* requests를 사용하는 코드로 변경하기\n",
    "* [requests docs](https://requests.readthedocs.io/en/latest/user/quickstart/)"
   ]
  },
  {
   "cell_type": "code",
   "execution_count": 22,
   "id": "727b427b",
   "metadata": {
    "scrolled": true
   },
   "outputs": [],
   "source": [
    "# 사용자 입력값 검증 요청\n",
    "\n"
   ]
  },
  {
   "cell_type": "markdown",
   "id": "d5e1179a",
   "metadata": {},
   "source": [
    "### 5. 블로그 검색하기"
   ]
  },
  {
   "cell_type": "code",
   "execution_count": 23,
   "id": "877d0c7f",
   "metadata": {},
   "outputs": [],
   "source": [
    "import requests\n",
    "import pprint\n",
    "\n",
    "headers = {\n",
    "    'X-Naver-Client-Id': '',\n",
    "    'X-Naver-Client-Secret': '',\n",
    "}\n",
    "\n",
    "payload = {\n",
    "    'query': '파이썬',\n",
    "    'display': 100,\n",
    "    'sort': 'sim'\n",
    "}\n",
    "\n",
    "url = 'https://openapi.naver.com/v1/search/blog.json'\n",
    "\n",
    "\n",
    "# requests get(url, params, headers) 요청 \n",
    "\n",
    "# json() 함수로 응답 결과 가져오오기\n",
    "# 'title' , 'bloggername' , 'description' , 'bloggerlink' , 'link'\n",
    "\n",
    "# 'data/nhnblog.txt' 파일 생성하기\n"
   ]
  }
 ],
 "metadata": {
  "kernelspec": {
   "display_name": "base",
   "language": "python",
   "name": "python3"
  },
  "language_info": {
   "codemirror_mode": {
    "name": "ipython",
    "version": 3
   },
   "file_extension": ".py",
   "mimetype": "text/x-python",
   "name": "python",
   "nbconvert_exporter": "python",
   "pygments_lexer": "ipython3",
   "version": "3.12.7"
  }
 },
 "nbformat": 4,
 "nbformat_minor": 5
}
